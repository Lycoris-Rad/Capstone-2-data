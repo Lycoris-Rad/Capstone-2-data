{
 "cells": [
  {
   "cell_type": "markdown",
   "metadata": {},
   "source": [
    "# Import the Data"
   ]
  },
  {
   "cell_type": "code",
   "execution_count": 1,
   "metadata": {
    "_cell_guid": "b1076dfc-b9ad-4769-8c92-a6c4dae69d19",
    "_uuid": "8f2839f25d086af736a60e9eeb907d3b93b6e0e5",
    "execution": {
     "iopub.execute_input": "2023-07-05T22:40:55.852219Z",
     "iopub.status.busy": "2023-07-05T22:40:55.851559Z",
     "iopub.status.idle": "2023-07-05T22:40:55.886749Z",
     "shell.execute_reply": "2023-07-05T22:40:55.885612Z",
     "shell.execute_reply.started": "2023-07-05T22:40:55.852185Z"
    }
   },
   "outputs": [],
   "source": [
    "# This Python 3 environment comes with many helpful analytics libraries installed\n",
    "# It is defined by the kaggle/python Docker image: https://github.com/kaggle/docker-python\n",
    "# For example, here's several helpful packages to load\n",
    "\n",
    "import numpy as np # linear algebra\n",
    "import pandas as pd # data processing, CSV file I/O (e.g. pd.read_csv)\n",
    "\n",
    "# Input data files are available in the read-only \"../input/\" directory\n",
    "# For example, running this (by clicking run or pressing Shift+Enter) will list all files under the input directory\n",
    "\n",
    "import os\n",
    "for dirname, _, filenames in os.walk('/kaggle/input'):\n",
    "    for filename in filenames:\n",
    "        print(os.path.join(dirname, filename))\n",
    "\n",
    "\n",
    "# You can write up to 20GB to the current directory (/kaggle/working/) that gets preserved as output when you create a version using \"Save & Run All\" \n",
    "# You can also write temporary files to /kaggle/temp/, but they won't be saved outside of the current session"
   ]
  },
  {
   "cell_type": "code",
   "execution_count": 2,
   "metadata": {
    "execution": {
     "iopub.execute_input": "2023-07-05T22:40:58.250662Z",
     "iopub.status.busy": "2023-07-05T22:40:58.250270Z",
     "iopub.status.idle": "2023-07-05T22:41:00.099512Z",
     "shell.execute_reply": "2023-07-05T22:41:00.098516Z",
     "shell.execute_reply.started": "2023-07-05T22:40:58.250633Z"
    }
   },
   "outputs": [],
   "source": [
    "# LOAD DATA\n",
    "train_pro = pd.read_csv(\"train_proteins.csv\")\n",
    "train_pep= pd.read_csv(\"train_peptides.csv\")\n",
    "train_clin = pd.read_csv(\"train_clinical_data.csv\")"
   ]
  },
  {
   "cell_type": "markdown",
   "metadata": {},
   "source": [
    "# VISUALIZE DATA TO JOIN DATA\n",
    ".head() , .describe(), .info(), .shape()"
   ]
  },
  {
   "cell_type": "code",
   "execution_count": 3,
   "metadata": {
    "execution": {
     "iopub.execute_input": "2023-07-05T22:41:02.307995Z",
     "iopub.status.busy": "2023-07-05T22:41:02.307487Z",
     "iopub.status.idle": "2023-07-05T22:41:02.316611Z",
     "shell.execute_reply": "2023-07-05T22:41:02.314590Z",
     "shell.execute_reply.started": "2023-07-05T22:41:02.307954Z"
    }
   },
   "outputs": [
    {
     "name": "stdout",
     "output_type": "stream",
     "text": [
      "(232741, 5)\n",
      "(981834, 6)\n",
      "(2615, 8)\n"
     ]
    }
   ],
   "source": [
    "print(train_pro.shape)\n",
    "print(train_pep.shape)\n",
    "print(train_clin.shape)"
   ]
  },
  {
   "cell_type": "code",
   "execution_count": 4,
   "metadata": {
    "execution": {
     "iopub.execute_input": "2023-07-05T22:41:03.849826Z",
     "iopub.status.busy": "2023-07-05T22:41:03.849104Z",
     "iopub.status.idle": "2023-07-05T22:41:03.876741Z",
     "shell.execute_reply": "2023-07-05T22:41:03.875724Z",
     "shell.execute_reply.started": "2023-07-05T22:41:03.849783Z"
    }
   },
   "outputs": [
    {
     "name": "stdout",
     "output_type": "stream",
     "text": [
      "  visit_id  visit_month  patient_id UniProt       NPX\n",
      "0     55_0            0          55  O00391   11254.3\n",
      "1     55_0            0          55  O00533  732430.0\n",
      "2     55_0            0          55  O00584   39585.8\n",
      "3     55_0            0          55  O14498   41526.9\n",
      "4     55_0            0          55  O14773   31238.0\n",
      "  visit_id  visit_month  patient_id UniProt  \\\n",
      "0     55_0            0          55  O00391   \n",
      "1     55_0            0          55  O00533   \n",
      "2     55_0            0          55  O00533   \n",
      "3     55_0            0          55  O00533   \n",
      "4     55_0            0          55  O00533   \n",
      "\n",
      "                                  Peptide  PeptideAbundance  \n",
      "0                           NEQEQPLGQWHLS           11254.3  \n",
      "1                             GNPEPTFSWTK          102060.0  \n",
      "2                         IEIPSSVQQVPTIIK          174185.0  \n",
      "3  KPQSAVYSTGSNGILLC(UniMod_4)EAEGEPQPTIK           27278.9  \n",
      "4                            SMEQNGPGLEYR           30838.7  \n",
      "  visit_id  patient_id  visit_month  updrs_1  updrs_2  updrs_3  updrs_4  \\\n",
      "0     55_0          55            0     10.0      6.0     15.0      NaN   \n",
      "1     55_3          55            3     10.0      7.0     25.0      NaN   \n",
      "2     55_6          55            6      8.0     10.0     34.0      NaN   \n",
      "3     55_9          55            9      8.0      9.0     30.0      0.0   \n",
      "4    55_12          55           12     10.0     10.0     41.0      0.0   \n",
      "\n",
      "  upd23b_clinical_state_on_medication  \n",
      "0                                 NaN  \n",
      "1                                 NaN  \n",
      "2                                 NaN  \n",
      "3                                  On  \n",
      "4                                  On  \n"
     ]
    }
   ],
   "source": [
    "# different amount of columns, thus need to find similarities and differences bfr making a MERGE\n",
    "print(train_pro.head())\n",
    "print(train_pep.head())\n",
    "print(train_clin.head())"
   ]
  },
  {
   "cell_type": "markdown",
   "metadata": {},
   "source": [
    "# Prepare to Data to Merge\n",
    "Remove Redundant Values"
   ]
  },
  {
   "cell_type": "code",
   "execution_count": 5,
   "metadata": {
    "execution": {
     "iopub.execute_input": "2023-07-04T21:50:24.225959Z",
     "iopub.status.busy": "2023-07-04T21:50:24.225545Z",
     "iopub.status.idle": "2023-07-04T21:50:24.231263Z",
     "shell.execute_reply": "2023-07-04T21:50:24.229932Z",
     "shell.execute_reply.started": "2023-07-04T21:50:24.225921Z"
    }
   },
   "outputs": [],
   "source": [
    "#All have: Visit ID, visit MONTH, Patient ID, \n",
    "#BUT NOT : UNI PROT, NPX, PEPTIDE, PEPTIDE ABUNDANCE, UPDRS1-4, ON MEDICATION\n",
    "#WANT: Visit ID, NPX, PEPTIDE ABUNDANCE,UPDRS1-4\n",
    "\n",
    "#REWORK\n",
    " #Visit id is redundant"
   ]
  },
  {
   "cell_type": "code",
   "execution_count": 6,
   "metadata": {},
   "outputs": [],
   "source": [
    "#Clean Data To Merge Data\n",
    "# Drop Visit_ID since it does not contribute to data processing because it is redudant\n",
    "\n",
    "pro_Cond1= train_pro.drop(\"visit_id\", axis=1 )\n",
    "\n",
    "\n",
    "pep_Cond1= train_pep.drop(\"visit_id\", axis=1 )\n",
    "clin_Cond1= train_clin.drop(\"visit_id\", axis=1 )\n",
    "\n",
    "\n",
    "\n",
    "\n"
   ]
  },
  {
   "cell_type": "code",
   "execution_count": 7,
   "metadata": {},
   "outputs": [
    {
     "data": {
      "text/html": [
       "<div>\n",
       "<style scoped>\n",
       "    .dataframe tbody tr th:only-of-type {\n",
       "        vertical-align: middle;\n",
       "    }\n",
       "\n",
       "    .dataframe tbody tr th {\n",
       "        vertical-align: top;\n",
       "    }\n",
       "\n",
       "    .dataframe thead th {\n",
       "        text-align: right;\n",
       "    }\n",
       "</style>\n",
       "<table border=\"1\" class=\"dataframe\">\n",
       "  <thead>\n",
       "    <tr style=\"text-align: right;\">\n",
       "      <th></th>\n",
       "      <th>visit_month</th>\n",
       "      <th>patient_id</th>\n",
       "      <th>UniProt</th>\n",
       "      <th>NPX</th>\n",
       "    </tr>\n",
       "  </thead>\n",
       "  <tbody>\n",
       "    <tr>\n",
       "      <th>0</th>\n",
       "      <td>0</td>\n",
       "      <td>55</td>\n",
       "      <td>O00391</td>\n",
       "      <td>11254.3</td>\n",
       "    </tr>\n",
       "    <tr>\n",
       "      <th>1</th>\n",
       "      <td>0</td>\n",
       "      <td>55</td>\n",
       "      <td>O00533</td>\n",
       "      <td>732430.0</td>\n",
       "    </tr>\n",
       "    <tr>\n",
       "      <th>2</th>\n",
       "      <td>0</td>\n",
       "      <td>55</td>\n",
       "      <td>O00584</td>\n",
       "      <td>39585.8</td>\n",
       "    </tr>\n",
       "    <tr>\n",
       "      <th>3</th>\n",
       "      <td>0</td>\n",
       "      <td>55</td>\n",
       "      <td>O14498</td>\n",
       "      <td>41526.9</td>\n",
       "    </tr>\n",
       "    <tr>\n",
       "      <th>4</th>\n",
       "      <td>0</td>\n",
       "      <td>55</td>\n",
       "      <td>O14773</td>\n",
       "      <td>31238.0</td>\n",
       "    </tr>\n",
       "  </tbody>\n",
       "</table>\n",
       "</div>"
      ],
      "text/plain": [
       "   visit_month  patient_id UniProt       NPX\n",
       "0            0          55  O00391   11254.3\n",
       "1            0          55  O00533  732430.0\n",
       "2            0          55  O00584   39585.8\n",
       "3            0          55  O14498   41526.9\n",
       "4            0          55  O14773   31238.0"
      ]
     },
     "execution_count": 7,
     "metadata": {},
     "output_type": "execute_result"
    }
   ],
   "source": [
    "pro_Cond1.head()"
   ]
  },
  {
   "cell_type": "code",
   "execution_count": 8,
   "metadata": {},
   "outputs": [
    {
     "data": {
      "text/html": [
       "<div>\n",
       "<style scoped>\n",
       "    .dataframe tbody tr th:only-of-type {\n",
       "        vertical-align: middle;\n",
       "    }\n",
       "\n",
       "    .dataframe tbody tr th {\n",
       "        vertical-align: top;\n",
       "    }\n",
       "\n",
       "    .dataframe thead th {\n",
       "        text-align: right;\n",
       "    }\n",
       "</style>\n",
       "<table border=\"1\" class=\"dataframe\">\n",
       "  <thead>\n",
       "    <tr style=\"text-align: right;\">\n",
       "      <th></th>\n",
       "      <th>visit_month</th>\n",
       "      <th>patient_id</th>\n",
       "      <th>UniProt</th>\n",
       "      <th>Peptide</th>\n",
       "      <th>PeptideAbundance</th>\n",
       "    </tr>\n",
       "  </thead>\n",
       "  <tbody>\n",
       "    <tr>\n",
       "      <th>0</th>\n",
       "      <td>0</td>\n",
       "      <td>55</td>\n",
       "      <td>O00391</td>\n",
       "      <td>NEQEQPLGQWHLS</td>\n",
       "      <td>11254.3</td>\n",
       "    </tr>\n",
       "    <tr>\n",
       "      <th>1</th>\n",
       "      <td>0</td>\n",
       "      <td>55</td>\n",
       "      <td>O00533</td>\n",
       "      <td>GNPEPTFSWTK</td>\n",
       "      <td>102060.0</td>\n",
       "    </tr>\n",
       "    <tr>\n",
       "      <th>2</th>\n",
       "      <td>0</td>\n",
       "      <td>55</td>\n",
       "      <td>O00533</td>\n",
       "      <td>IEIPSSVQQVPTIIK</td>\n",
       "      <td>174185.0</td>\n",
       "    </tr>\n",
       "    <tr>\n",
       "      <th>3</th>\n",
       "      <td>0</td>\n",
       "      <td>55</td>\n",
       "      <td>O00533</td>\n",
       "      <td>KPQSAVYSTGSNGILLC(UniMod_4)EAEGEPQPTIK</td>\n",
       "      <td>27278.9</td>\n",
       "    </tr>\n",
       "    <tr>\n",
       "      <th>4</th>\n",
       "      <td>0</td>\n",
       "      <td>55</td>\n",
       "      <td>O00533</td>\n",
       "      <td>SMEQNGPGLEYR</td>\n",
       "      <td>30838.7</td>\n",
       "    </tr>\n",
       "  </tbody>\n",
       "</table>\n",
       "</div>"
      ],
      "text/plain": [
       "   visit_month  patient_id UniProt                                 Peptide  \\\n",
       "0            0          55  O00391                           NEQEQPLGQWHLS   \n",
       "1            0          55  O00533                             GNPEPTFSWTK   \n",
       "2            0          55  O00533                         IEIPSSVQQVPTIIK   \n",
       "3            0          55  O00533  KPQSAVYSTGSNGILLC(UniMod_4)EAEGEPQPTIK   \n",
       "4            0          55  O00533                            SMEQNGPGLEYR   \n",
       "\n",
       "   PeptideAbundance  \n",
       "0           11254.3  \n",
       "1          102060.0  \n",
       "2          174185.0  \n",
       "3           27278.9  \n",
       "4           30838.7  "
      ]
     },
     "execution_count": 8,
     "metadata": {},
     "output_type": "execute_result"
    }
   ],
   "source": [
    "pep_Cond1.head()"
   ]
  },
  {
   "cell_type": "code",
   "execution_count": 9,
   "metadata": {},
   "outputs": [],
   "source": [
    "pro_Cond1= pro_Cond1.drop(\"visit_month\", axis=1 )"
   ]
  },
  {
   "cell_type": "code",
   "execution_count": 10,
   "metadata": {},
   "outputs": [
    {
     "data": {
      "text/html": [
       "<div>\n",
       "<style scoped>\n",
       "    .dataframe tbody tr th:only-of-type {\n",
       "        vertical-align: middle;\n",
       "    }\n",
       "\n",
       "    .dataframe tbody tr th {\n",
       "        vertical-align: top;\n",
       "    }\n",
       "\n",
       "    .dataframe thead th {\n",
       "        text-align: right;\n",
       "    }\n",
       "</style>\n",
       "<table border=\"1\" class=\"dataframe\">\n",
       "  <thead>\n",
       "    <tr style=\"text-align: right;\">\n",
       "      <th></th>\n",
       "      <th>patient_id</th>\n",
       "      <th>UniProt</th>\n",
       "      <th>NPX</th>\n",
       "      <th>visit_month</th>\n",
       "      <th>Peptide</th>\n",
       "      <th>PeptideAbundance</th>\n",
       "    </tr>\n",
       "  </thead>\n",
       "  <tbody>\n",
       "    <tr>\n",
       "      <th>0</th>\n",
       "      <td>55</td>\n",
       "      <td>O00391</td>\n",
       "      <td>11254.3</td>\n",
       "      <td>0</td>\n",
       "      <td>NEQEQPLGQWHLS</td>\n",
       "      <td>11254.3</td>\n",
       "    </tr>\n",
       "    <tr>\n",
       "      <th>1</th>\n",
       "      <td>55</td>\n",
       "      <td>O00391</td>\n",
       "      <td>11254.3</td>\n",
       "      <td>6</td>\n",
       "      <td>NEQEQPLGQWHLS</td>\n",
       "      <td>13163.6</td>\n",
       "    </tr>\n",
       "    <tr>\n",
       "      <th>2</th>\n",
       "      <td>55</td>\n",
       "      <td>O00391</td>\n",
       "      <td>11254.3</td>\n",
       "      <td>12</td>\n",
       "      <td>NEQEQPLGQWHLS</td>\n",
       "      <td>15257.6</td>\n",
       "    </tr>\n",
       "    <tr>\n",
       "      <th>3</th>\n",
       "      <td>55</td>\n",
       "      <td>O00391</td>\n",
       "      <td>11254.3</td>\n",
       "      <td>36</td>\n",
       "      <td>NEQEQPLGQWHLS</td>\n",
       "      <td>13530.8</td>\n",
       "    </tr>\n",
       "    <tr>\n",
       "      <th>4</th>\n",
       "      <td>55</td>\n",
       "      <td>O00391</td>\n",
       "      <td>13163.6</td>\n",
       "      <td>0</td>\n",
       "      <td>NEQEQPLGQWHLS</td>\n",
       "      <td>11254.3</td>\n",
       "    </tr>\n",
       "  </tbody>\n",
       "</table>\n",
       "</div>"
      ],
      "text/plain": [
       "   patient_id UniProt      NPX  visit_month        Peptide  PeptideAbundance\n",
       "0          55  O00391  11254.3            0  NEQEQPLGQWHLS           11254.3\n",
       "1          55  O00391  11254.3            6  NEQEQPLGQWHLS           13163.6\n",
       "2          55  O00391  11254.3           12  NEQEQPLGQWHLS           15257.6\n",
       "3          55  O00391  11254.3           36  NEQEQPLGQWHLS           13530.8\n",
       "4          55  O00391  13163.6            0  NEQEQPLGQWHLS           11254.3"
      ]
     },
     "execution_count": 10,
     "metadata": {},
     "output_type": "execute_result"
    }
   ],
   "source": [
    "#MERGE(JOIN)DATA Part 1\n",
    "Pro_pep_Cond1=pro_Cond1.merge(pep_Cond1, on =[\"patient_id\",'UniProt'])\n",
    "Pro_pep_Cond1.head()"
   ]
  },
  {
   "cell_type": "code",
   "execution_count": 12,
   "metadata": {},
   "outputs": [
    {
     "data": {
      "text/html": [
       "<div>\n",
       "<style scoped>\n",
       "    .dataframe tbody tr th:only-of-type {\n",
       "        vertical-align: middle;\n",
       "    }\n",
       "\n",
       "    .dataframe tbody tr th {\n",
       "        vertical-align: top;\n",
       "    }\n",
       "\n",
       "    .dataframe thead th {\n",
       "        text-align: right;\n",
       "    }\n",
       "</style>\n",
       "<table border=\"1\" class=\"dataframe\">\n",
       "  <thead>\n",
       "    <tr style=\"text-align: right;\">\n",
       "      <th></th>\n",
       "      <th>patient_id</th>\n",
       "      <th>visit_month</th>\n",
       "      <th>updrs_1</th>\n",
       "      <th>updrs_2</th>\n",
       "      <th>updrs_3</th>\n",
       "      <th>updrs_4</th>\n",
       "      <th>upd23b_clinical_state_on_medication</th>\n",
       "    </tr>\n",
       "  </thead>\n",
       "  <tbody>\n",
       "    <tr>\n",
       "      <th>0</th>\n",
       "      <td>55</td>\n",
       "      <td>0</td>\n",
       "      <td>10.0</td>\n",
       "      <td>6.0</td>\n",
       "      <td>15.0</td>\n",
       "      <td>NaN</td>\n",
       "      <td>NaN</td>\n",
       "    </tr>\n",
       "    <tr>\n",
       "      <th>1</th>\n",
       "      <td>55</td>\n",
       "      <td>3</td>\n",
       "      <td>10.0</td>\n",
       "      <td>7.0</td>\n",
       "      <td>25.0</td>\n",
       "      <td>NaN</td>\n",
       "      <td>NaN</td>\n",
       "    </tr>\n",
       "    <tr>\n",
       "      <th>2</th>\n",
       "      <td>55</td>\n",
       "      <td>6</td>\n",
       "      <td>8.0</td>\n",
       "      <td>10.0</td>\n",
       "      <td>34.0</td>\n",
       "      <td>NaN</td>\n",
       "      <td>NaN</td>\n",
       "    </tr>\n",
       "    <tr>\n",
       "      <th>3</th>\n",
       "      <td>55</td>\n",
       "      <td>9</td>\n",
       "      <td>8.0</td>\n",
       "      <td>9.0</td>\n",
       "      <td>30.0</td>\n",
       "      <td>0.0</td>\n",
       "      <td>On</td>\n",
       "    </tr>\n",
       "    <tr>\n",
       "      <th>4</th>\n",
       "      <td>55</td>\n",
       "      <td>12</td>\n",
       "      <td>10.0</td>\n",
       "      <td>10.0</td>\n",
       "      <td>41.0</td>\n",
       "      <td>0.0</td>\n",
       "      <td>On</td>\n",
       "    </tr>\n",
       "  </tbody>\n",
       "</table>\n",
       "</div>"
      ],
      "text/plain": [
       "   patient_id  visit_month  updrs_1  updrs_2  updrs_3  updrs_4  \\\n",
       "0          55            0     10.0      6.0     15.0      NaN   \n",
       "1          55            3     10.0      7.0     25.0      NaN   \n",
       "2          55            6      8.0     10.0     34.0      NaN   \n",
       "3          55            9      8.0      9.0     30.0      0.0   \n",
       "4          55           12     10.0     10.0     41.0      0.0   \n",
       "\n",
       "  upd23b_clinical_state_on_medication  \n",
       "0                                 NaN  \n",
       "1                                 NaN  \n",
       "2                                 NaN  \n",
       "3                                  On  \n",
       "4                                  On  "
      ]
     },
     "execution_count": 12,
     "metadata": {},
     "output_type": "execute_result"
    }
   ],
   "source": [
    "clin_Cond1.head()"
   ]
  },
  {
   "cell_type": "code",
   "execution_count": 35,
   "metadata": {},
   "outputs": [],
   "source": []
  },
  {
   "cell_type": "code",
   "execution_count": null,
   "metadata": {},
   "outputs": [],
   "source": []
  },
  {
   "cell_type": "code",
   "execution_count": 14,
   "metadata": {},
   "outputs": [],
   "source": [
    "#CLEAN and THEN merge\n",
    "Pro_pep_Cond1= Pro_pep_Cond1.drop(\"visit_month\", axis=1 )\n"
   ]
  },
  {
   "cell_type": "code",
   "execution_count": 15,
   "metadata": {},
   "outputs": [],
   "source": [
    "#MERGE(JOIN)DATA Part 2\n",
    "Pro_pep_clin= Pro_pep_Cond1.merge(train_clin, on =[\"patient_id\" ])\n"
   ]
  },
  {
   "cell_type": "code",
   "execution_count": 16,
   "metadata": {},
   "outputs": [
    {
     "data": {
      "text/html": [
       "<div>\n",
       "<style scoped>\n",
       "    .dataframe tbody tr th:only-of-type {\n",
       "        vertical-align: middle;\n",
       "    }\n",
       "\n",
       "    .dataframe tbody tr th {\n",
       "        vertical-align: top;\n",
       "    }\n",
       "\n",
       "    .dataframe thead th {\n",
       "        text-align: right;\n",
       "    }\n",
       "</style>\n",
       "<table border=\"1\" class=\"dataframe\">\n",
       "  <thead>\n",
       "    <tr style=\"text-align: right;\">\n",
       "      <th></th>\n",
       "      <th>patient_id</th>\n",
       "      <th>UniProt</th>\n",
       "      <th>NPX</th>\n",
       "      <th>Peptide</th>\n",
       "      <th>PeptideAbundance</th>\n",
       "      <th>visit_id</th>\n",
       "      <th>visit_month</th>\n",
       "      <th>updrs_1</th>\n",
       "      <th>updrs_2</th>\n",
       "      <th>updrs_3</th>\n",
       "      <th>updrs_4</th>\n",
       "      <th>upd23b_clinical_state_on_medication</th>\n",
       "    </tr>\n",
       "  </thead>\n",
       "  <tbody>\n",
       "    <tr>\n",
       "      <th>0</th>\n",
       "      <td>55</td>\n",
       "      <td>O00391</td>\n",
       "      <td>11254.3</td>\n",
       "      <td>NEQEQPLGQWHLS</td>\n",
       "      <td>11254.3</td>\n",
       "      <td>55_0</td>\n",
       "      <td>0</td>\n",
       "      <td>10.0</td>\n",
       "      <td>6.0</td>\n",
       "      <td>15.0</td>\n",
       "      <td>NaN</td>\n",
       "      <td>NaN</td>\n",
       "    </tr>\n",
       "    <tr>\n",
       "      <th>1</th>\n",
       "      <td>55</td>\n",
       "      <td>O00391</td>\n",
       "      <td>11254.3</td>\n",
       "      <td>NEQEQPLGQWHLS</td>\n",
       "      <td>11254.3</td>\n",
       "      <td>55_3</td>\n",
       "      <td>3</td>\n",
       "      <td>10.0</td>\n",
       "      <td>7.0</td>\n",
       "      <td>25.0</td>\n",
       "      <td>NaN</td>\n",
       "      <td>NaN</td>\n",
       "    </tr>\n",
       "    <tr>\n",
       "      <th>2</th>\n",
       "      <td>55</td>\n",
       "      <td>O00391</td>\n",
       "      <td>11254.3</td>\n",
       "      <td>NEQEQPLGQWHLS</td>\n",
       "      <td>11254.3</td>\n",
       "      <td>55_6</td>\n",
       "      <td>6</td>\n",
       "      <td>8.0</td>\n",
       "      <td>10.0</td>\n",
       "      <td>34.0</td>\n",
       "      <td>NaN</td>\n",
       "      <td>NaN</td>\n",
       "    </tr>\n",
       "    <tr>\n",
       "      <th>3</th>\n",
       "      <td>55</td>\n",
       "      <td>O00391</td>\n",
       "      <td>11254.3</td>\n",
       "      <td>NEQEQPLGQWHLS</td>\n",
       "      <td>11254.3</td>\n",
       "      <td>55_9</td>\n",
       "      <td>9</td>\n",
       "      <td>8.0</td>\n",
       "      <td>9.0</td>\n",
       "      <td>30.0</td>\n",
       "      <td>0.0</td>\n",
       "      <td>On</td>\n",
       "    </tr>\n",
       "    <tr>\n",
       "      <th>4</th>\n",
       "      <td>55</td>\n",
       "      <td>O00391</td>\n",
       "      <td>11254.3</td>\n",
       "      <td>NEQEQPLGQWHLS</td>\n",
       "      <td>11254.3</td>\n",
       "      <td>55_12</td>\n",
       "      <td>12</td>\n",
       "      <td>10.0</td>\n",
       "      <td>10.0</td>\n",
       "      <td>41.0</td>\n",
       "      <td>0.0</td>\n",
       "      <td>On</td>\n",
       "    </tr>\n",
       "  </tbody>\n",
       "</table>\n",
       "</div>"
      ],
      "text/plain": [
       "   patient_id UniProt      NPX        Peptide  PeptideAbundance visit_id  \\\n",
       "0          55  O00391  11254.3  NEQEQPLGQWHLS           11254.3     55_0   \n",
       "1          55  O00391  11254.3  NEQEQPLGQWHLS           11254.3     55_3   \n",
       "2          55  O00391  11254.3  NEQEQPLGQWHLS           11254.3     55_6   \n",
       "3          55  O00391  11254.3  NEQEQPLGQWHLS           11254.3     55_9   \n",
       "4          55  O00391  11254.3  NEQEQPLGQWHLS           11254.3    55_12   \n",
       "\n",
       "   visit_month  updrs_1  updrs_2  updrs_3  updrs_4  \\\n",
       "0            0     10.0      6.0     15.0      NaN   \n",
       "1            3     10.0      7.0     25.0      NaN   \n",
       "2            6      8.0     10.0     34.0      NaN   \n",
       "3            9      8.0      9.0     30.0      0.0   \n",
       "4           12     10.0     10.0     41.0      0.0   \n",
       "\n",
       "  upd23b_clinical_state_on_medication  \n",
       "0                                 NaN  \n",
       "1                                 NaN  \n",
       "2                                 NaN  \n",
       "3                                  On  \n",
       "4                                  On  "
      ]
     },
     "execution_count": 16,
     "metadata": {},
     "output_type": "execute_result"
    }
   ],
   "source": [
    "Pro_pep_clin.head()"
   ]
  },
  {
   "cell_type": "markdown",
   "metadata": {},
   "source": [
    "# Clean the Merged Data"
   ]
  },
  {
   "cell_type": "code",
   "execution_count": 20,
   "metadata": {},
   "outputs": [
    {
     "data": {
      "text/plain": [
       "array([  0,   3,   6,   9,  12,  18,  24,  30,  36,  42,  48,  54,  60,\n",
       "        72,  84,  96, 108], dtype=int64)"
      ]
     },
     "execution_count": 20,
     "metadata": {},
     "output_type": "execute_result"
    }
   ],
   "source": [
    "Pro_pep_clin[\"visit_month\"].unique()"
   ]
  },
  {
   "cell_type": "markdown",
   "metadata": {},
   "source": [
    "Months are being counted in increments of 3"
   ]
  },
  {
   "cell_type": "code",
   "execution_count": 21,
   "metadata": {},
   "outputs": [
    {
     "data": {
      "text/plain": [
       "array([   55,  1517,  1923,  2660,  3636,  3863,  4161,  4172,  5027,\n",
       "        5178,  5645,  5742,  6054,  6211,  7051,  7117,  7568,  7832,\n",
       "        8699, 10053, 10174, 10541, 10715, 10718, 11459, 11686, 11928,\n",
       "       12516, 12636, 12703, 12755, 13368, 13618, 13968, 14035, 14124,\n",
       "       14242, 14450, 14811, 15009, 15504, 15590, 16238, 16347, 16566,\n",
       "       16574, 17154, 17414, 17727, 18183, 18204, 18553, 18560, 19088,\n",
       "       20212, 20216, 20352, 20404, 20664, 20791, 21126, 21537, 21729,\n",
       "       22126, 22623, 23192, 23244, 23391, 23636, 24278, 24690, 24820,\n",
       "       24911, 25562, 25739, 25750, 25827, 25911, 26005, 26104, 26210,\n",
       "       26809, 27079, 27300, 27464, 27468, 27715, 27971, 28327, 28342,\n",
       "       28818, 29313, 29417, 30119, 30155, 30416, 30894, 30951, 31121,\n",
       "       31154, 31693, 33548, 33558, 34182, 35231, 35465, 35477, 35675,\n",
       "       35696, 36797, 37312, 37566, 38419, 39144, 40022, 40200, 40340,\n",
       "       40751, 40874, 40967, 41444, 41617, 41628, 41871, 41883, 41930,\n",
       "       42003, 42385, 42579, 44001, 44154, 44682, 45161, 45181, 46837,\n",
       "       47103, 47513, 47881, 48780, 48928, 49239, 49672, 49683, 49995,\n",
       "       50611, 50907, 51243, 51879, 51893, 51899, 52266, 53103, 54095,\n",
       "       54406, 55240, 55256, 55302, 55662, 56073, 56075, 56119, 56317,\n",
       "       56675, 56691, 56727, 57009, 57321, 57416, 57478, 57507, 57646,\n",
       "       58189, 58270, 58648, 58653, 58823, 59550, 59574, 60170, 60326,\n",
       "       60443, 60803, 61503, 61974, 62329, 62437, 62723, 62732, 62792,\n",
       "       63875, 63889, 64669, 64674, 65043, 23175, 56538, 57468,   942,\n",
       "        5036,  7151,  8344, 13360, 13852, 14270, 15245, 16778, 16931,\n",
       "       20581, 20707, 24818, 31270, 33108, 37220, 40798, 44789, 47171,\n",
       "       52119, 55096, 57108, 58674, 60788,  4923,  6420,  7265,  7886,\n",
       "       10138, 13804, 14344, 17201, 20460, 20792, 27607, 27872, 27893,\n",
       "       27987, 39719, 40650, 40876, 40980, 42086, 45662, 51708, 51846,\n",
       "       52998, 54979, 58597,  7508, 12931], dtype=int64)"
      ]
     },
     "execution_count": 21,
     "metadata": {},
     "output_type": "execute_result"
    }
   ],
   "source": [
    "Pro_pep_clin[\"patient_id\"].unique()\n"
   ]
  },
  {
   "cell_type": "code",
   "execution_count": 22,
   "metadata": {},
   "outputs": [
    {
     "data": {
      "text/plain": [
       "array(['O00391', 'O00533', 'O00584', 'O14498', 'O14773', 'O14791',\n",
       "       'O15240', 'O15394', 'O43505', 'O60888', 'O75144', 'O75326',\n",
       "       'O94919', 'P00441', 'P00450', 'P00734', 'P00736', 'P00738',\n",
       "       'P00746', 'P00747', 'P00748', 'P00751', 'P01008', 'P01009',\n",
       "       'P01011', 'P01019', 'P01023', 'P01024', 'P01031', 'P01033',\n",
       "       'P01034', 'P01042', 'P01344', 'P01591', 'P01608', 'P01621',\n",
       "       'P01717', 'P01780', 'P01833', 'P01834', 'P01857', 'P01859',\n",
       "       'P01860', 'P01861', 'P01876', 'P01877', 'P02452', 'P02647',\n",
       "       'P02649', 'P02652', 'P02655', 'P02656', 'P02671', 'P02675',\n",
       "       'P02679', 'P02747', 'P02748', 'P02749', 'P02750', 'P02751',\n",
       "       'P02753', 'P02760', 'P02763', 'P02765', 'P02766', 'P02768',\n",
       "       'P02774', 'P02787', 'P02790', 'P04004', 'P04075', 'P04156',\n",
       "       'P04180', 'P04196', 'P04207', 'P04211', 'P04216', 'P04217',\n",
       "       'P04275', 'P04406', 'P04433', 'P05060', 'P05067', 'P05090',\n",
       "       'P05155', 'P05156', 'P05408', 'P05452', 'P05546', 'P06310',\n",
       "       'P06396', 'P06454', 'P06681', 'P06727', 'P07195', 'P07225',\n",
       "       'P07333', 'P07339', 'P07602', 'P07711', 'P07858', 'P07998',\n",
       "       'P08123', 'P08133', 'P08253', 'P08294', 'P08493', 'P08571',\n",
       "       'P08603', 'P08637', 'P08697', 'P09104', 'P09486', 'P09871',\n",
       "       'P10451', 'P10643', 'P10645', 'P10909', 'P11142', 'P11277',\n",
       "       'P12109', 'P13473', 'P13521', 'P13591', 'P13611', 'P13671',\n",
       "       'P13987', 'P14174', 'P14314', 'P14618', 'P16035', 'P16070',\n",
       "       'P16152', 'P16870', 'P17174', 'P17936', 'P18065', 'P19021',\n",
       "       'P19652', 'P19823', 'P19827', 'P20774', 'P20933', 'P23083',\n",
       "       'P23142', 'P24592', 'P25311', 'P27169', 'P30086', 'P31997',\n",
       "       'P35542', 'P36222', 'P36955', 'P36980', 'P39060', 'P40925',\n",
       "       'P41222', 'P43121', 'P43251', 'P43652', 'P49588', 'P49908',\n",
       "       'P51884', 'P54289', 'P55290', 'P61278', 'P61626', 'P61769',\n",
       "       'P61916', 'P80748', 'P98160', 'Q02818', 'Q06481', 'Q08380',\n",
       "       'Q12805', 'Q12841', 'Q12907', 'Q13283', 'Q13332', 'Q13451',\n",
       "       'Q13740', 'Q14118', 'Q14508', 'Q14515', 'Q14624', 'Q15904',\n",
       "       'Q16270', 'Q16610', 'Q562R1', 'Q6UX71', 'Q6UXB8', 'Q6UXD5',\n",
       "       'Q7Z3B1', 'Q7Z5P9', 'Q8IWV7', 'Q8N2S1', 'Q8NBJ4', 'Q8NE71',\n",
       "       'Q92520', 'Q92823', 'Q92876', 'Q96BZ4', 'Q96KN2', 'Q96PD5',\n",
       "       'Q96S96', 'Q99435', 'Q99674', 'Q99832', 'Q99969', 'Q9BY67',\n",
       "       'Q9HDC9', 'Q9NQ79', 'Q9NYU2', 'Q9UBR2', 'Q9UBX5', 'Q9UHG2',\n",
       "       'Q9UNU6', 'Q9Y646', 'Q9Y6R7', 'P02792', 'Q13449', 'Q99683',\n",
       "       'P60174', 'Q99829', 'Q9UKV8', 'P32754', 'P01594'], dtype=object)"
      ]
     },
     "execution_count": 22,
     "metadata": {},
     "output_type": "execute_result"
    }
   ],
   "source": [
    "Pro_pep_clin[\"UniProt\"].unique()"
   ]
  },
  {
   "cell_type": "code",
   "execution_count": 23,
   "metadata": {},
   "outputs": [
    {
     "data": {
      "text/plain": [
       "array([11254.3 , 13163.6 , 15257.6 , ..., 22230.7 ,  7235.97, 34843.4 ])"
      ]
     },
     "execution_count": 23,
     "metadata": {},
     "output_type": "execute_result"
    }
   ],
   "source": [
    "Pro_pep_clin[\"NPX\"].unique()"
   ]
  },
  {
   "cell_type": "code",
   "execution_count": 24,
   "metadata": {},
   "outputs": [
    {
     "data": {
      "text/plain": [
       "array(['NEQEQPLGQWHLS', 'GNPEPTFSWTK', 'IEIPSSVQQVPTIIK',\n",
       "       'KPQSAVYSTGSNGILLC(UniMod_4)EAEGEPQPTIK', 'SMEQNGPGLEYR',\n",
       "       'TLKIENVSYQDKGNYR', 'VIAVNEVGR', 'VMTPAVYAPYDVK',\n",
       "       'VNGSPVDNHPFAGDVVFPR', 'ELDLNSVLLK', 'HGTC(UniMod_4)AAQVDALNSQKK',\n",
       "       'ALPGTPVASSQPR', 'LFGGNFAHQASVAR', 'LYQQHGAGLFDVTR',\n",
       "       'VTEPISAESGEQVER', 'AYQGVAAPFPK', 'QQETAAAETETR', 'THLGEALAPLSK',\n",
       "       'ASGSPEPAISWFR', 'NIINSDGGPYVC(UniMod_4)R', 'TALASGGVLDASGDYR',\n",
       "       'TQSSLVPALTDFVR', 'ALMSPAGMLR', 'GLYDVVSVLR',\n",
       "       'SEGLLAC(UniMod_4)GTNAR', 'ILEVVNQIQDEER', 'QALNTDYLDSDYQR',\n",
       "       'ADDLGKGGNEESTKTGNAGSR', 'TLVVHEKADDLGKGGNEESTK', 'ALYLQYTDETFR',\n",
       "       'EVGPTNADPVC(UniMod_4)LAK', 'FNKNNEGTYYSPNYNPQSR', 'GAYPLSIEPIGVR',\n",
       "       'KAEEEHLGILGPQLHADVGDKVK', 'MFTTAPDQVDKEDEDFQESNK',\n",
       "       'MYYSAVDPTKDIFTGLIGPM(UniMod_35)K', 'NNEGTYYSPNYNPQSR',\n",
       "       'QYTDSTFRVPVER', 'SVPPSASHVAPTETFTYEWTVPK',\n",
       "       'DKLAAC(UniMod_4)LEGNC(UniMod_4)AEGLGTNYR', 'ELLESYIDGR',\n",
       "       'LAVTTHGLPC(UniMod_4)LAWASAQAK',\n",
       "       'RQEC(UniMod_4)SIPVC(UniMod_4)GQDQVTVAMTPR',\n",
       "       'SEGSSVNLSPPLEQC(UniMod_4)VPDRGQQYQGR', 'SGIEC(UniMod_4)QLWR',\n",
       "       'TATSEYQTFFNPR', 'MGNFPWQVFTNIHGR', 'NIGEFC(UniMod_4)GK',\n",
       "       'YTTEIIK', 'AVGDKLPEC(UniMod_4)EADDGC(UniMod_4)PKPPEIAHGYVEHSVR',\n",
       "       'HYEGSTVPEK', 'LRTEGDGVYTLNNEK', 'LRTEGDGVYTLNNEKQWINK',\n",
       "       'SPVGVQPILNEHTFC(UniMod_4)AGMSK', 'TEGDGVYTLNNEK',\n",
       "       'VDSGNDVTDIADDGC(UniMod_4)PKPPEIAHGYVEHSVR', 'VGYVSGWGR',\n",
       "       'VMPIC(UniMod_4)LPSKDYAEVGR', 'VTSIQDWVQK',\n",
       "       'YVM(UniMod_35)LPVADQDQC(UniMod_4)IR', 'YVMLPVADQDQC(UniMod_4)IR',\n",
       "       'ATLGPAVRPLPWQR', 'RPDSLQHVLLPVLDR',\n",
       "       'ATTVTGTPC(UniMod_4)QDWAAQEPHR',\n",
       "       'C(UniMod_4)TTPPPSSGPTYQC(UniMod_4)LK',\n",
       "       'FSPATHPSEGLEENYC(UniMod_4)RNPDNDPQGPWC(UniMod_4)YTTDPEKR',\n",
       "       'HSIFTPETNPR',\n",
       "       'KLYDYC(UniMod_4)DVPQC(UniMod_4)AAPSFDC(UniMod_4)GKPQVEPK',\n",
       "       'NPDGDVGGPWC(UniMod_4)YTTNPR', 'TPENYPNAGLTMNYC(UniMod_4)R',\n",
       "       'WSSTSPHRPR', 'GRPGPQPWC(UniMod_4)ATTPNFDQDQR',\n",
       "       'NWGLGGHAFC(UniMod_4)R', 'WGYC(UniMod_4)LEPK', 'ASYGVKPR',\n",
       "       'C(UniMod_4)LVNLIEK', 'EKLQDEDLGFL',\n",
       "       'FLC(UniMod_4)TGGVSPYADPNTC(UniMod_4)R', 'VASYGVKPR',\n",
       "       'VKDISEVVTPR', 'VSEADSSNADWVTK',\n",
       "       'WSGQTAIC(UniMod_4)DNGAGYC(UniMod_4)SNPGIPIGTR', 'YGLVTYATYPK',\n",
       "       'YGQTIRPIC(UniMod_4)LPC(UniMod_4)TEGTTR', 'QLNEINYEDHK',\n",
       "       'ANRPFLVFIR', 'ATEDEGSEQKIPEATNR', 'ATEDEGSEQKIPEATNRR',\n",
       "       'DIPMNPMC(UniMod_4)IYR', 'EVPLNTIIFMGR', 'HGSPVDIC(UniMod_4)TAKPR',\n",
       "       'KATEDEGSEQKIPEATNR', 'LQPLDFKENAEQSR', 'RVWELSK',\n",
       "       'SPVDIC(UniMod_4)TAKPR', 'FLENEDR', 'FLENEDRR',\n",
       "       'FNKPFVFLM(UniMod_35)IEQNTK', 'GMFNIQHC(UniMod_4)K',\n",
       "       'KLSSWVLLM(UniMod_35)K', 'KQINDYVEK', 'KQINDYVEKGTQGK',\n",
       "       'LGMFNIQHC(UniMod_4)K', 'LSITGTYDLK', 'LSSWVLLM(UniMod_35)K',\n",
       "       'LSSWVLLMK', 'LVDKFLEDVKK', 'LYHSEAFTVNFGDTEEAKK', 'QINDYVEK',\n",
       "       'QINDYVEKGTQGK', 'SASLHLPK', 'SVLGQLGITK', 'VFSNGADLSGVTEEAPLK',\n",
       "       'VFSNGADLSGVTEEAPLKLSK', 'KLSSWVLLMK', 'ADLSGITGAR',\n",
       "       'AKWEMPFDPQDTHQSR', 'EIGELYLPK', 'EQLSLLDRFTEDAKR',\n",
       "       'HPNSPLDEENLTQENQDR', 'KLINDYVK', 'LINDYVK', 'LYGSEAFATDFQDSAAAK',\n",
       "       'LYGSEAFATDFQDSAAAKK', 'NLAVSQVVHK', 'NSPLDEENLTQENQDR',\n",
       "       'RLYGSEAFATDFQDSAAAK', 'ALQDQLVLVAAK', 'ANAGKPKDPTFIPAPIQAK',\n",
       "       'DPTFIPAPIQAK', 'FMQAVTGWK', 'SLDFTELDVAAEK',\n",
       "       'TSPVDEKALQDQLVLVAAK', 'AIGYLNTGYQR', 'AVLPTGDVIGDSAK',\n",
       "       'DTVIKPLLVEPEGLEK', 'HYDGSYSTFGER', 'LVDGKGVPIPNKVIFIR',\n",
       "       'M(UniMod_35)C(UniMod_4)PQLQQYEMHGPEGLR',\n",
       "       'MC(UniMod_4)PQLQQYEMHGPEGLR', 'QGIPFFGQVR', 'QTVSWAVTPK',\n",
       "       'VGFYESDVMGR', 'VTAAPQSVC(UniMod_4)ALR', 'AAVYHHFISDGVR',\n",
       "       'AELQC(UniMod_4)PQPAA', 'AGDFLEANYMNLQR',\n",
       "       'C(UniMod_4)AEENC(UniMod_4)FIQK', 'IHWESASLLR',\n",
       "       'ILLQGTPVAQMTEDAVDAER', 'IPIEDGSGEVVLSR', 'IPIEDGSGEVVLSRK',\n",
       "       'ISLPESLK', 'IWDVVEK', 'KQELSEAEQATR', 'KVLLDGVQNPR',\n",
       "       'LSINTHPSQKPLSITVR', 'LVAYYTLIGASGQR', 'PIVTSPYQIHFTK',\n",
       "       'QELSEAEQATR', 'QKPDGVFQEDAPVIHQEMIGGLR', 'QPSSAFAAFVK',\n",
       "       'RIPIEDGSGEVVLSRK', 'SDDKVTLEER', 'SGIPIVTSPYQIHFTK',\n",
       "       'SGSDEVQVGQQR', 'SNLDEDIIAEENIVSR', 'SPMYSIITPNILR', 'TFISPIK',\n",
       "       'TKKQELSEAEQATR', 'TMQALPYSTVGNSNNYLHLSVLR', 'VLLDGVQNPR',\n",
       "       'VPVAVQGEDTVQSLTQGDGVAK', 'VTIKPAPETEKRPQDAK', 'YYTYLIMNK',\n",
       "       'EGVQKEDIPPADLSDQVPDTESETR', 'GYTQQLAFR', 'ISLPESLKR', 'GIYGTISR',\n",
       "       'EPGLC(UniMod_4)TWQSLR', 'ALDFAVGEYNK',\n",
       "       'LVGGPM(UniMod_35)DASVEEEGVRR', 'LVGGPMDASVEEEGVR',\n",
       "       'LVGGPMDASVEEEGVRR', 'AATGEC(UniMod_4)TATVGKR',\n",
       "       'IASFSQNC(UniMod_4)DIYPGKDFVQPPTK', 'IC(UniMod_4)VGC(UniMod_4)PR',\n",
       "       'KIYPTVNC(UniMod_4)QPLGMISLMK', 'KLGQSLDC(UniMod_4)NAEVYVVPWEK',\n",
       "       'KYFIDFVAR', 'LGQSLDC(UniMod_4)NAEVYVVPWEK', 'QVVAGLNFR',\n",
       "       'YFIDFVAR', 'YNSQNQSNNQFVLYR', 'GIVEEC(UniMod_4)C(UniMod_4)FR',\n",
       "       'C(UniMod_4)YTAVVPLVYGGETK', 'LLIYDASK', 'LLIYGATSR',\n",
       "       'SYELTQPPSVSVSPGQTAR', 'DVQLVESGGGLVKPGGSLR', 'VYTVDLGR',\n",
       "       'HKVYAC(UniMod_4)EVTHQGLSSPVTK', 'SFNRGEC(UniMod_4)',\n",
       "       'TVAAPSVFIFPPSDEQLK', 'VDNALQSGNSQESVTEQDSK',\n",
       "       'VDNALQSGNSQESVTEQDSKDSTYSLSSTLTLSK',\n",
       "       'VYAC(UniMod_4)EVTHQGLSSPVTK', 'GPSVFPLAPSSK',\n",
       "       'SC(UniMod_4)DKTHTC(UniMod_4)PPC(UniMod_4)PAPELLGGPSVFLFPPKPK',\n",
       "       'TPEVTC(UniMod_4)VVVDVSHEDPEVK', 'TTPPVLDSDGSFFLYSK',\n",
       "       'C(UniMod_4)C(UniMod_4)VEC(UniMod_4)PPC(UniMod_4)PAPPVAGPSVFLFPPKPK',\n",
       "       'GLPAPIEK',\n",
       "       'KC(UniMod_4)C(UniMod_4)VEC(UniMod_4)PPC(UniMod_4)PAPPVAGPSVFLFPPKPK',\n",
       "       'SC(UniMod_4)DTPPPC(UniMod_4)PR', 'TPLGDTTHTC(UniMod_4)PR',\n",
       "       'TTPPVLDSDGSFFLYSR', 'DASGVTFTWTPSSGK',\n",
       "       'NFPPSQDASGDLYTTSSQLTLPATQC(UniMod_4)LAGK',\n",
       "       'TFTC(UniMod_4)TAAYPESK', 'TPLTATLSK',\n",
       "       'HYTNPSQDVTVPC(UniMod_4)PVPPPPPC(UniMod_4)C(UniMod_4)HPR',\n",
       "       'STGGISVPGPMGPSGPR', 'YHDRDVWKPEPC(UniMod_4)R', 'AKPALEDLR',\n",
       "       'ATEHLSTLSEK', 'DEPPQSPWDR', 'DLATVYVDVLK', 'DSGRDYVSQFEGSALGK',\n",
       "       'DYVSQFEGSALGK', 'KPALEDLR', 'LAARLEALKENGGAR', 'LLDNWDSVTSTFSK',\n",
       "       'LSPLGEEMR', 'TEHLSTLSEK', 'THLAPYSDELR', 'THLAPYSDELRQR',\n",
       "       'VEPLRAELQEGAR', 'VKDLATVYVDVLK', 'VQPYLDDFQK', 'VQPYLDDFQKK',\n",
       "       'WQEEMELYR', 'PALEDLR', 'QKVEPLRAELQEGAR', 'AATVGSLAGQPLQER',\n",
       "       'AKLEEQAQQIR', 'AYKSELEEQLTPVAEETR', 'DRLDEVKEQVAEVR',\n",
       "       'GEVQAMLGQSTEELR', 'GEVQAMLGQSTEELRVR', 'KVEQAVETEPEPELR',\n",
       "       'LAVYQAGAR', 'LDEVKEQVAEVR', 'LEEQAQQIR',\n",
       "       'LGADM(UniMod_35)EDVC(UniMod_4)GR', 'LGADMEDVC(UniMod_4)GR',\n",
       "       'LGPLVEQGR', 'LGPLVEQGRVR', 'LQAEAFQAR', 'LSKELQAAQAR',\n",
       "       'QQTEWQSGQR', 'QWAGLVEK', 'SELEEQLTPVAEETR',\n",
       "       'SWFEPLVEDM(UniMod_35)QR', 'VQAAVGTSAAPVPSDNH', 'WELALGR',\n",
       "       'EQLTPLIK', 'KSPELQAEAK', 'SPELQAEAK', 'VKSPELQAEAK',\n",
       "       'ESLSSYWESAK', 'DALSSVQESQVAQQAR', 'TAKDALSSVQESQVAQQAR',\n",
       "       'ALTDMPQMR', 'DSGEGDFLAEGGGVR', 'GDFSSANNRDNTYNR',\n",
       "       'GGSTSYGTGSETESPR', 'GSESGIFTNTK',\n",
       "       'M(UniMod_35)ADEAGSEADHEGTHSTKR', 'M(UniMod_35)ELERPGGNEITR',\n",
       "       'MADEAGSEADHEGTHSTKR', 'MELERPGGNEITR', 'NSLFEYQK',\n",
       "       'ADSGEGDFLAEGGGVR', 'QFTSSTSYNR', 'HPDEAAFFDTASTGK',\n",
       "       'EC(UniMod_4)EEIIR', 'KGGETSEMYLIQPDSSVKPYR',\n",
       "       'KREEAPSLRPAPPPISGGGYR', 'QDGSVDFGR', 'QGVNDNEEGFFSAR', 'SILENLR',\n",
       "       'TPC(UniMod_4)TVSC(UniMod_4)NIPVVSGKEC(UniMod_4)EEIIR',\n",
       "       'VYC(UniMod_4)DMNTENGGWTVIQNR', 'YYWGGQYTWDMAK',\n",
       "       'GGETSEMYLIQPDSSVKPYR', 'AIQLTYNPDESSKPNMIDAATLK',\n",
       "       'DNC(UniMod_4)C(UniMod_4)ILDER', 'QSGLYFIKPLK', 'YLQEIYNSNNQK',\n",
       "       'FQSVFTVTR', 'QTHQPPAPNSLIR', 'LSPIYNLVPVK',\n",
       "       'QC(UniMod_4)VPTEPC(UniMod_4)EDAEDDC(UniMod_4)GNDFQC(UniMod_4)STGR',\n",
       "       'VVEESELAR', 'ATFGC(UniMod_4)HDGYSLDGPEEIEC(UniMod_4)TK',\n",
       "       'ATVVYQGER', 'C(UniMod_4)PFPSRPDNGFVNYPAKPTLYYK',\n",
       "       'C(UniMod_4)SYTEDAQC(UniMod_4)IDGTIEVPK',\n",
       "       'GRTC(UniMod_4)PKPDDLPFSTVVPLK',\n",
       "       'KC(UniMod_4)SYTEDAQC(UniMod_4)IDGTIEVPK', 'TDASDVKPC(UniMod_4)',\n",
       "       'TFYEPGEEITYSC(UniMod_4)KPGYVSR', 'VC(UniMod_4)PFAGILENGAVR',\n",
       "       'DLLLPQPDLR', 'VAAGAFQGLR', 'YLFLNGNK', 'FLATTPNSLLVSWQPPR',\n",
       "       'FTNIGPDTMR', 'FTQVTPTSLSAQWTPPNVQLTGYR', 'HTSVQTTSSGSGPFTDVR',\n",
       "       'IGDQWDKQHDMGHMMR', 'IGDTWSK', 'ISC(UniMod_4)TIANR', 'ITGYIIK',\n",
       "       'ITYGETGGNSPVQEFTVPGSK', 'IYLYTLNDNAR', 'LGVRPSQGGEAPR',\n",
       "       'LLC(UniMod_4)QC(UniMod_4)LGFGSGHFR', 'NLQPASEYTVSLVAIKGNQESPK',\n",
       "       'NTFAEVTGLSPGVTYYFK', 'QYNVGPSVSKYPLR', 'RPGGEPSPEGTTGQSYNQYSQR',\n",
       "       'SSPVVIDASTAIDAPSNLR', 'STTPDITGYR', 'SYTITGLQPGTDYK',\n",
       "       'TEIDKPSQMQVTDVQDNSISVK', 'TFYSC(UniMod_4)TTEGR',\n",
       "       'TNTNVNC(UniMod_4)PIEC(UniMod_4)FMPLDVQADREDSRE',\n",
       "       'TYLGNALVC(UniMod_4)TC(UniMod_4)YGGSR', 'VFAVSHGR', 'WLPSSSPVTGYR',\n",
       "       'WSRPQAPITGYR', 'YQC(UniMod_4)YC(UniMod_4)YGR', 'FSGTWYAMAK',\n",
       "       'LIVHNGYC(UniMod_4)DGR', 'MKYWGVASFLQK', 'QRQEELC(UniMod_4)LAR',\n",
       "       'YWGVASFLQK', 'ETLLQDFR', 'EYC(UniMod_4)GVPGDGDEELLR',\n",
       "       'TVAAC(UniMod_4)NLPIVR', 'SDVVYTDWK', 'SDVVYTDWKK',\n",
       "       'YVGGQEHFAHLLILR', 'APHGPGLIYR', 'C(UniMod_4)DSSPDSAEDVRK',\n",
       "       'C(UniMod_4)NLLAEK', 'FSVVYAK', 'GSPSGEVSHPR', 'HGPGLIYR',\n",
       "       'HTFM(UniMod_35)GVVSLGSPSGEVSHPR', 'HTFMGVVSLGSPSGEVSHPR',\n",
       "       'QLKEHAVEGDC(UniMod_4)DFQLLKLDGK', 'SLGSPSGEVSHPR',\n",
       "       'TVVQPSVGAAAGPVVPPC(UniMod_4)PGR', 'AADDTWEPFASGK',\n",
       "       'ALGISPFHEHAEVVFTANDSGPR', 'ALGISPFHEHAEVVFTANDSGPRR',\n",
       "       'GSPAINVAVHVFR', 'GSPAINVAVHVFRK', 'KAADDTWEPFASGK',\n",
       "       'SPAINVAVHVFR', 'TSESGELHGLTTEEEFVEGIYK',\n",
       "       'AAFTEC(UniMod_4)C(UniMod_4)QAADK', 'ADDKETC(UniMod_4)FAEEGK',\n",
       "       'ADDKETC(UniMod_4)FAEEGKK', 'AEFAEVSK',\n",
       "       'C(UniMod_4)C(UniMod_4)AAADPHEC(UniMod_4)YAK',\n",
       "       'C(UniMod_4)C(UniMod_4)TESLVNR', 'DDKETC(UniMod_4)FAEEGKK',\n",
       "       'DDNPNLPR', 'DKETC(UniMod_4)FAEEGKK', 'DLGEENFK',\n",
       "       'DVC(UniMod_4)KNYAEAK', 'ETYGEMADC(UniMod_4)C(UniMod_4)AK',\n",
       "       'FKDLGEENFK', 'FQNALLVR', 'FSALEVDETYVPK',\n",
       "       'FTEC(UniMod_4)C(UniMod_4)QAADK',\n",
       "       'KEC(UniMod_4)C(UniMod_4)EKPLLEK', 'KQTALVELVK', 'KVPQVSTPTLVEVSR',\n",
       "       'KYLYEIAR', 'LC(UniMod_4)TVATLR', 'LDELRDEGK', 'LVNEVTEFAK',\n",
       "       'PTLVEVSR', 'QEPERNEC(UniMod_4)FLQHKDDNPNLPR',\n",
       "       'QNC(UniMod_4)ELFEQLGEYK', 'QTALVELVK',\n",
       "       'RPC(UniMod_4)FSALEVDETYVPK', 'SLHTLFGDK',\n",
       "       'TC(UniMod_4)VADESAENC(UniMod_4)DK',\n",
       "       'TC(UniMod_4)VADESAENC(UniMod_4)DKSLHTLFGDK', 'TPVSDRVTK',\n",
       "       'TYETTLEK', 'VHTEC(UniMod_4)C(UniMod_4)HGDLLEC(UniMod_4)ADDR',\n",
       "       'VHTEC(UniMod_4)C(UniMod_4)HGDLLEC(UniMod_4)ADDRADLAK',\n",
       "       'VPQVSTPTLVEVSR', 'YKAAFTEC(UniMod_4)C(UniMod_4)QAADK', 'YLYEIAR',\n",
       "       'C(UniMod_4)C(UniMod_4)ESASEDC(UniMod_4)MAK',\n",
       "       'C(UniMod_4)C(UniMod_4)ESASEDC(UniMod_4)MAKELPEHTVK',\n",
       "       'ELSSFIDKGQELC(UniMod_4)ADYSENTFTEYK',\n",
       "       'ELSSFIDKGQELC(UniMod_4)ADYSENTFTEYKK',\n",
       "       'EVVSLTEAC(UniMod_4)C(UniMod_4)AEGADPDC(UniMod_4)YDTR',\n",
       "       'HLSLLTTLSNR', 'HQPQEFPTYVEPTNDEIC(UniMod_4)EAFR',\n",
       "       'HQPQEFPTYVEPTNDEIC(UniMod_4)EAFRK',\n",
       "       'HQPQEFPTYVEPTNDEIC(UniMod_4)EAFRKDPK', 'KFPSGTFEQVSQLVK',\n",
       "       'KLC(UniMod_4)MAALK', 'LC(UniMod_4)DNLSTK', 'LC(UniMod_4)MAALK',\n",
       "       'NSKFEDC(UniMod_4)C(UniMod_4)QEK',\n",
       "       'SC(UniMod_4)ESNSPFPVHPGTAEC(UniMod_4)C(UniMod_4)TK',\n",
       "       'SLGEC(UniMod_4)C(UniMod_4)DVEDSTTC(UniMod_4)FNAK',\n",
       "       'SYLSMVGSC(UniMod_4)C(UniMod_4)TSASPTVC(UniMod_4)FLKER',\n",
       "       'THLPEVFLSK', 'VC(UniMod_4)SQYAAYGEK', 'VLEPTLK', 'VMDKYTFELSR',\n",
       "       'ADRDQYELLC(UniMod_4)LDNTR', 'ASYLDC(UniMod_4)IR',\n",
       "       'C(UniMod_4)LKDGAGDVAFVK', 'C(UniMod_4)LVEKGDVAFVK',\n",
       "       'C(UniMod_4)LVEKGDVAFVKHQTVPQNTGGK',\n",
       "       'C(UniMod_4)STSSLLEAC(UniMod_4)TFR', 'DC(UniMod_4)HLAQVPSHTVVAR',\n",
       "       'DGAGDVAFVK', 'DLLFKDSAHGFLK', 'DLLFRDDTVC(UniMod_4)LAK',\n",
       "       'DSGFQM(UniMod_35)NQLR', 'DSGFQMNQLR', 'EFQLFSSPHGK',\n",
       "       'EGTC(UniMod_4)PEAPTDEC(UniMod_4)KPVK', 'EGYYGYTGAFR',\n",
       "       'FDEFFSEGC(UniMod_4)APGSK', 'FDEFFSEGC(UniMod_4)APGSKK',\n",
       "       'HQTVPQNTGGKNPDPWAK', 'HSTIFENLANK',\n",
       "       'IEC(UniMod_4)VSAETTEDC(UniMod_4)IAK', 'IMNGEADAMSLDGGFVYIAGK',\n",
       "       'KASYLDC(UniMod_4)IR', 'KC(UniMod_4)STSSLLEAC(UniMod_4)TFR',\n",
       "       'KDSGFQM(UniMod_35)NQLR', 'KDSGFQMNQLR',\n",
       "       'KPVDEYKDC(UniMod_4)HLAQVPSHTVVAR', 'KPVEEYANC(UniMod_4)HLAR',\n",
       "       'KSASDLTWDNLK', 'LC(UniMod_4)MGSGLNLC(UniMod_4)EPNNK',\n",
       "       'LC(UniMod_4)MGSGLNLC(UniMod_4)EPNNKEGYYGYTGAFR',\n",
       "       'LHDRNTYEKYLGEEYVK', 'LKC(UniMod_4)DEWSVNSVGK',\n",
       "       'LKC(UniMod_4)DEWSVNSVGKIEC(UniMod_4)VSAETTEDC(UniMod_4)IAK',\n",
       "       'M(UniMod_35)YLGYEYVTAIR', 'MYLGYEYVTAIR',\n",
       "       'NLNEKDYELLC(UniMod_4)LDGTR',\n",
       "       'NLREGTC(UniMod_4)PEAPTDEC(UniMod_4)KPVK', 'NPDPWAK', 'PNHAVVTR',\n",
       "       'SASDLTWDNLK', 'SETKDLLFRDDTVC(UniMod_4)LAK', 'SKEFQLFSSPHGK',\n",
       "       'SVIPSDGPSVAC(UniMod_4)VK', 'SVIPSDGPSVAC(UniMod_4)VKK',\n",
       "       'WC(UniMod_4)AVSEHEATK', 'YANC(UniMod_4)HLAR', 'YLGEEYVK',\n",
       "       'INHC(UniMod_4)RFDEFFSEGC(UniMod_4)APGSKK', 'SASDLTWDNLKGK',\n",
       "       'DVRDYFMPC(UniMod_4)PGR', 'DYFMPC(UniMod_4)PGR', 'GDKVWVYPPEKK',\n",
       "       'HGNVAEGETKPDPDVTER', 'LPPTSAHGNVAEGETKPDPDVTER', 'NFPSPVDAAFR',\n",
       "       'PPTSAHGNVAEGETKPDPDVTER', 'TPLPPTSAHGNVAEGETKPDPDVTER',\n",
       "       'TSAHGNVAEGETKPDPDVTER', 'VDGALC(UniMod_4)MEK', 'WKNFPSPVDAAFR',\n",
       "       'YYC(UniMod_4)FQGNQFLR',\n",
       "       'C(UniMod_4)QC(UniMod_4)DELC(UniMod_4)SYYQSC(UniMod_4)C(UniMod_4)TDYTAEC(UniMod_4)KPQVTR',\n",
       "       'DWHGVPGQVDAAMAGR', 'IYISGMAPR', 'IYISGMAPRPSLAK', 'RVDTVDPPYPR',\n",
       "       'SIAQYWLGC(UniMod_4)PAPGHL', 'ALANSLAC(UniMod_4)QGK',\n",
       "       'LQSIGTENTEENRR', 'VVEQMC(UniMod_4)ITQYER', 'ITTTSPWMFPSR',\n",
       "       'LEPGQQEEYYR', 'SSGLVSNAPGVQIR', 'HPNVFGFC(UniMod_4)R', 'QIGSVYR',\n",
       "       'VRGGEGTGYFVDFSVR', 'VSPTDC(UniMod_4)SAVEPEAEK',\n",
       "       'EIVMTQSPATLSVSPGER', 'FSGSLLGGK', 'HVLFGTVGVPEHTYR',\n",
       "       'ATWSGAVLAGR', 'C(UniMod_4)LAPLEGAR', 'HQFLLTGDTQGR', 'LETPDFQLFK',\n",
       "       'LLELTGPK', 'SGLSTGWTQLSK', 'VTLTC(UniMod_4)VAPLSGVDFQLR',\n",
       "       'FSEEAC(UniMod_4)AVLTSPTFEAC(UniMod_4)HR', 'GALQNIIPASTGAAK',\n",
       "       'ASQSVSSYLAWYQQKPGQAPR', 'EIVLTQSPATLSLSPGER', 'LLIYDASNR',\n",
       "       'C(UniMod_4)IIEVLSNALSK', 'GEAGAPGEEDIQGPTK', 'GYPGVQAPEDLEWER',\n",
       "       'SSQGGSLPSEEK', 'LLRDPADASEAHESSSR',\n",
       "       'C(UniMod_4)APFFYGGC(UniMod_4)GGNR', 'ISYGNDALMPSLTETK',\n",
       "       'LNMHMNVQNGKWDSDPSGTK', 'LVFFAEDVGSNK', 'QQLVETHMAR',\n",
       "       'STNLHDYGMLLPC(UniMod_4)GIDK', 'WYFDVTEGK', 'THPHFVIPYR',\n",
       "       'C(UniMod_4)PNPPVQENFDVNK', 'C(UniMod_4)PNPPVQENFDVNKYLGR',\n",
       "       'IPTTFENGR', 'KMTVTDQVNC(UniMod_4)PK',\n",
       "       'M(UniMod_35)TVTDQVNC(UniMod_4)PK', 'MTVTDQVNC(UniMod_4)PK',\n",
       "       'NILTSNNIDVK', 'NILTSNNIDVKK', 'VLNQELR', 'WYEIEKIPTTFENGR',\n",
       "       'FQPTLLTLPR', 'HRLEDMEQALSPSVFK', 'LEDMEQALSPSVFK', 'LLDSLPSDTR',\n",
       "       'NSVIKVPMMNSK', 'TLYSSSPR', 'GLETSLAEC(UniMod_4)TFTK',\n",
       "       'KVTYTSQEDLVEKK', 'SFPTYC(UniMod_4)QQK', 'VSEADIQR',\n",
       "       'C(UniMod_4)FLAFTQTK', 'C(UniMod_4)RDQLPYIC(UniMod_4)QFGIV',\n",
       "       'GGTLGTPQTGSENDALYEYLR', 'TFHEASEDC(UniMod_4)ISR', 'TLEAQLTPR',\n",
       "       'NFGYTLR', 'DSGVPDRFSGSGSGTDFTLK', 'AGALNSNDAFVLK', 'AGKEPGLQIWR',\n",
       "       'AQPVQVAEGSEPDGFWEALGGK', 'LFAC(UniMod_4)SNK',\n",
       "       'MDYPKQTQVSVLPEGGETPLFK', 'QTQVSVLPEGGETPLFK', 'RTPITVVK',\n",
       "       'TASDFITK', 'TGAQELLR', 'TPSAAYLWVGTGASEAEK',\n",
       "       'VHVSEEGTEPEAMLQVLGPKPALPAGTEDTAKEDAANR',\n",
       "       'VHVSEEGTEPEAMLQVLGPKPALPAGTEDTAKEDAANRK', 'VPEARPNSMVVEHPEFLK',\n",
       "       'VPFDAATLHTSTAMAAQHGMDDDGTGQK', 'YIETDPANR', 'RYIETDPANRDR',\n",
       "       'EVVEEAENGR', 'AVISPGFDVFAK', 'SKVPPPRDFHINLFR', 'SSGQWQTPGATR',\n",
       "       'ALVQQMEQLR', 'IDQNVEELKGR', 'IDQTVEELRR', 'ISASAEELR',\n",
       "       'KLVPFATELHER', 'LAPLAEDVR', 'LEPYADQLR', 'LGEVNTYAGDLQK',\n",
       "       'SLAELGGHLDQQVEEFRR', 'SLAPYAQDTQEK', 'TQVNTQAEQLRR', 'VEPYGENFNK',\n",
       "       'TQVNTQAEQLR', 'LKDDEVAQLKK', 'KVESELIKPINPR', 'QSTNAYPDLR',\n",
       "       'SFQTGLFTAAR', 'IPVIEPSVPELVVKPGATVTLR',\n",
       "       'AIGAVPLIQGEYMIPC(UniMod_4)EK', 'FDGILGMAYPR', 'LSPEDYTLK',\n",
       "       'TMSEVGGSVEDLIAK', 'VSTLPAITLK', 'DGGFC(UniMod_4)EVC(UniMod_4)K',\n",
       "       'DGGFC(UniMod_4)EVC(UniMod_4)KK', 'GC(UniMod_4)SFLPDPYQK',\n",
       "       'KLVGYLDR', 'LGPGMADIC(UniMod_4)K', 'LVGYLDR', 'NSWGEEWGMGGYVK',\n",
       "       'VFQEPLFYEAPR', 'EQWPQC(UniMod_4)PTIK',\n",
       "       'C(UniMod_4)KPVNTFVHEPLVDVQNVC(UniMod_4)FQEK',\n",
       "       'QHM(UniMod_35)DSDSSPSSSSTYC(UniMod_4)NQMMR',\n",
       "       'QHMDSDSSPSSSSTYC(UniMod_4)NQMMR',\n",
       "       'SNSSM(UniMod_35)HITDC(UniMod_4)R', 'SNSSMHITDC(UniMod_4)R',\n",
       "       'YPNC(UniMod_4)AYR', 'SLNNQIETLLTPEGSR', 'NKPLFFADK',\n",
       "       'IIGYTPDLDPETVDDAFAR', 'AGLAASLAGPHSIVGR', 'AVVVHAGEDDLGR',\n",
       "       'LAC(UniMod_4)C(UniMod_4)VVGVC(UniMod_4)GPGLWER', 'VTEIWQEVMQR',\n",
       "       'VTGVVLFR', 'NANTFISPQQR', 'YAMVYGYNAAYNR', 'AFPALTSLDLSDNPGLGER',\n",
       "       'ATVNPSAPR', 'TTPEPC(UniMod_4)ELDDEDFR', 'VLDLSC(UniMod_4)NR',\n",
       "       'VLSIAQAHSPAFSC(UniMod_4)EQVR',\n",
       "       'AQTTVTC(UniMod_4)M(UniMod_35)ENGWSPTPR',\n",
       "       'AQTTVTC(UniMod_4)MENGWSPTPR', 'C(UniMod_4)LPVTAPENGK',\n",
       "       'C(UniMod_4)TSTGWIPAPR', 'DGWSAQPTC(UniMod_4)IK',\n",
       "       'DTSC(UniMod_4)VNPPTVQNAYIVSR', 'EDC(UniMod_4)NELPPRR',\n",
       "       'HGGLYHENMR', 'IVSSAMEPDREYHFGQAVR', 'LSYTC(UniMod_4)EGGFR',\n",
       "       'NGFYPATR', 'NTEILTGSWSDQTYPEGTQAIYK', 'RNTEILTGSWSDQTYPEGTQAIYK',\n",
       "       'SC(UniMod_4)DIPVFMNAR', 'SC(UniMod_4)DNPYIPNGDYSPLR',\n",
       "       'SIDVAC(UniMod_4)HPGYALPK', 'SLGNVIMVC(UniMod_4)R', 'SSNLIILEEHLK',\n",
       "       'TGDEITYQC(UniMod_4)R', 'TKEEYGHSEVVEYYC(UniMod_4)NPR',\n",
       "       'IVSSAM(UniMod_35)EPDREYHFGQAVR', 'AVVFLEPQWYR',\n",
       "       'LC(UniMod_4)QDLGPGAFR', 'LGNQEPGGQTALK', 'LVPPMEEDYPQFGSPK',\n",
       "       'NKFDPSLTQR', 'NQEQVSPLTLLK', 'IEEELGDEAR',\n",
       "       'APLIPMEHC(UniMod_4)TTR', 'LEAGDHPVELLAR', 'LHLDYIGPC(UniMod_4)K',\n",
       "       'RLEAGDHPVELLAR', 'EPTMYGEILSPNYPQAYPSEVEK',\n",
       "       'GMDSC(UniMod_4)KGDSGGAFAVQDPNDKTK', 'LLEVPEGR',\n",
       "       'M(UniMod_35)LTPEHVFIHPGWK', 'TM(UniMod_35)QENSTPRED',\n",
       "       'TMQENSTPRED', 'TNFDNDIALVR', 'VEKPTADAEAYVFTPNMIC(UniMod_4)AGGEK',\n",
       "       'ISHELDSASSEVN', 'C(UniMod_4)FSGQC(UniMod_4)ISK',\n",
       "       'GC(UniMod_4)PTEEGC(UniMod_4)GER', 'GQSISVTSIRPC(UniMod_4)AAETQ',\n",
       "       'LTPLYELVK', 'MPYEC(UniMod_4)GPSLDVC(UniMod_4)AQDER',\n",
       "       'NVVYTC(UniMod_4)NEGYSLIGNPVAR',\n",
       "       'SC(UniMod_4)VGETTESTQC(UniMod_4)EDEELEHLR', 'EDSLEAGLPLQVR',\n",
       "       'GLSAEPGWQAK', 'LEGQEEEEDNRDSSMK', 'RLEGQEEEEDNRDSSMK',\n",
       "       'SEALAVDGAGKPGAEEAQDPEGK', 'SGEATDGARPQALPEPMQESK', 'SGELEQEEER',\n",
       "       'VAHQLQALR', 'YPGPQAEGDSEGLSQGLVDREK',\n",
       "       'C(UniMod_4)REILSVDC(UniMod_4)STNNPSQAK',\n",
       "       'DQTVSDNELQEM(UniMod_35)SNQGSK', 'DQTVSDNELQEMSNQGSK',\n",
       "       'EILSVDC(UniMod_4)STNNPSQAK', 'EIQNAVNGVK', 'ELDESLQVAER',\n",
       "       'FM(UniMod_35)ETVAEK', 'FMETVAEK', 'KTLLSNLEEAK',\n",
       "       'LFDSDPITVTVPVEVSR', 'QQTHMLDVMQDHFSR', 'RELDESLQVAER',\n",
       "       'TLLSNLEEAK', 'TLLSNLEEAKK', 'VTTVASHTSDSDVPSGVTEVVVK',\n",
       "       'YVNKEIQNAVNGVK', 'KTLLSNLEEAKK', 'NSLESYAFNMK', 'DLEDETLWVEER',\n",
       "       'IALVITDGR', 'VAVVQYSGTGQQRPER', 'IPLNDLFR', 'ALEYIENLR',\n",
       "       'ALSSEWKPEIR', 'FFLC(UniMod_4)QVAGDAK', 'GLGEISAASEFK',\n",
       "       'AQC(UniMod_4)GGGLLGVR', 'LATVGELQAAWR', 'QLEWGLER', 'AGLQVYNK',\n",
       "       'FEHC(UniMod_4)NFNDVTTR', 'LRENELTYYC(UniMod_4)C(UniMod_4)K',\n",
       "       'LRENELTYYC(UniMod_4)C(UniMod_4)KK', 'LLC(UniMod_4)GLLAER',\n",
       "       'ESLQQMAEVTR', 'SLEDQVEMLR', 'LDIDSPPITAR',\n",
       "       'NTGIIC(UniMod_4)TIGPASR', 'AVSEKEVDSGNDIYGNPIKR',\n",
       "       'GAAPPKQEFLDIEDP', 'ALSIGFETC(UniMod_4)R', 'YGFIEGHVVIPR',\n",
       "       'SC(UniMod_4)SPELQQK', 'LTASAPGYLAITK', 'SGSAHEYSSSPDDAIFQSLAR',\n",
       "       'SNAQGIDLNR', 'IGADFLAR', 'VGGVQSLGGTGALR', 'FLNVLSPR',\n",
       "       'GEC(UniMod_4)WC(UniMod_4)VNPNTGK',\n",
       "       'LAAC(UniMod_4)GPPPVAPPAAVAAVAGGAR', 'LEGEAC(UniMod_4)GVYTPR',\n",
       "       'MPC(UniMod_4)AELVREPGC(UniMod_4)GC(UniMod_4)C(UniMod_4)SVC(UniMod_4)AR',\n",
       "       'TPC(UniMod_4)QQELDQVLER', 'GSGGLNLGNFFASR', 'EHVAHLLFLR',\n",
       "       'SDVMYTDWK', 'SDVMYTDWKK', 'FYNQVSTPLLR', 'IQPSGGTNINEALLR',\n",
       "       'LSNENHGIAQR', 'SSALDMENFR', 'GMADQDGLKPTIDKPSEDSPPLEMLGPR',\n",
       "       'DFADIPNLR', 'ESAYLYAR', 'RLPIGSYF', 'FLPSYQAVEYMR',\n",
       "       'QAPGQGLEWMGR', 'C(UniMod_4)LAFEC(UniMod_4)PENYR',\n",
       "       'C(UniMod_4)LAFEC(UniMod_4)PENYRR',\n",
       "       'C(UniMod_4)VDVDEC(UniMod_4)APPAEPC(UniMod_4)GK',\n",
       "       'DC(UniMod_4)SLPYATESK', 'DVLLEAC(UniMod_4)C(UniMod_4)ADGHR',\n",
       "       'EFTRPEEIIFLR', 'GYHLNEEGTR',\n",
       "       'GYQLSDVDGVTC(UniMod_4)EDIDEC(UniMod_4)ALPTGGHIC(UniMod_4)SYR',\n",
       "       'M(UniMod_35)VQEQC(UniMod_4)C(UniMod_4)HSQLEELHC(UniMod_4)ATGISLANEQDR',\n",
       "       'MC(UniMod_4)VDVNEC(UniMod_4)QR',\n",
       "       'MVQEQC(UniMod_4)C(UniMod_4)HSQLEELHC(UniMod_4)ATGISLANEQDR',\n",
       "       'RGYQLSDVDGVTC(UniMod_4)EDIDEC(UniMod_4)ALPTGGHIC(UniMod_4)SYR',\n",
       "       'TGYYFDGISR',\n",
       "       'EGQEC(UniMod_4)GVYTPNC(UniMod_4)APGLQC(UniMod_4)HPPKDDEAPLR',\n",
       "       'GAQTLYVPNC(UniMod_4)DHR', 'HLDSVLQQLQTEVYR',\n",
       "       'AKAYLEEEC(UniMod_4)PATLRK', 'AYLEEEC(UniMod_4)PATLR',\n",
       "       'AYLEEEC(UniMod_4)PATLRK', 'KSQPMGLWR', 'NILDRQDPPSVVVTSHQAPGEK',\n",
       "       'QKWEAEPVYVQR', 'WEAEPVYVQR', 'YSLTYIYTGLSK',\n",
       "       'EVQPVELPNC(UniMod_4)NLVK', 'LYEQLSGK', 'VLTPTQVK',\n",
       "       'IIGYVISNQQITPGPAYSNR', 'EALQGVGDMGR', 'GNQWVGYDDQESVK',\n",
       "       'GQEDASPDRFSNTDYAVGYMLR', 'ILGQQVPYATK', 'LVMGIPTFGR',\n",
       "       'DTDTGALLFIGK', 'KTSLEDFYLDEER', 'LAAAVSNFGYDLYR', 'LQSLFDSPDFSK',\n",
       "       'LSYEGEVTK', 'SSFVAPLEK', 'TSLEDFYLDEER', 'TVQAVLTVPK', 'VPMMSDPK',\n",
       "       'YGLDSDLSC(UniMod_4)K', 'LVYPSC(UniMod_4)EEK', 'IFSFDGKDVLR',\n",
       "       'LQDLYSIVR', 'FVEGLPINDFSR', 'APEAQVSVQPNFQQDK',\n",
       "       'AQGFTEDTIVFLPQTDK', 'MATLYSR', 'TM(UniMod_35)LLQPAGSLGSYSYR',\n",
       "       'TMLLQPAGSLGSYSYR', 'EAEEETTNDNGVLVLEPARK', 'GATLALTQVTPQDER',\n",
       "       'VRQGQGQSEPGEYEQR', 'LSSGLVTAALYGR', 'AESPEVC(UniMod_4)FNEESPK',\n",
       "       'AIPVTQYLK', 'DGLKYHYLIR', 'FLVNLVK', 'FTDSENVC(UniMod_4)QER',\n",
       "       'FTFEYSR', 'IAPQLSTEELVSLGEK', 'IVQIYKDLLR',\n",
       "       'SC(UniMod_4)C(UniMod_4)EEQNKVNC(UniMod_4)LQTR',\n",
       "       'TINPAVDHC(UniMod_4)C(UniMod_4)K', 'GSLVAPDR', 'DMPASEDLQDLQK',\n",
       "       'FNALQYLR', 'ILGPLSYSK', 'LKEDAVSAAFK', 'SLEDLQLTHNKITK',\n",
       "       'SVPMVPPGIK', 'FVVTDGGITR', 'IKPVFIEDANFGR', 'INENTGSVSVTR',\n",
       "       'SIVVSPILIPENQR', 'SLAAAAGKQELAK', 'LGMDGYR', 'IEKVEHSDLSFSK',\n",
       "       'VEHSDLSFSK', 'VNHVTLSQPK',\n",
       "       'DC(UniMod_4)GSVDGVIKEVNVSPC(UniMod_4)PTQPC(UniMod_4)QLSK',\n",
       "       'EVNVSPC(UniMod_4)PTQPC(UniMod_4)QLSK', 'SEYPSIK',\n",
       "       'SGINC(UniMod_4)PIQK', 'FSGSNSGNTATLTISR',\n",
       "       'AQAGANTRPC(UniMod_4)PS', 'TPSGLYLGTC(UniMod_4)ER', 'ELQQAVLHMEQR',\n",
       "       'AVC(UniMod_4)SQEAMTGPC(UniMod_4)R', 'FIYGGC(UniMod_4)GGNR',\n",
       "       'AAFGQGSGPIMLDEVQC(UniMod_4)TGTEASLADC(UniMod_4)K', 'ASHEEVEGLVEK',\n",
       "       'AVDTWSWGER', 'LADGGATNQGRVEIFYR', 'STSSFPC(UniMod_4)PAGHFNGFR',\n",
       "       'ADQVC(UniMod_4)INLR', 'C(UniMod_4)VC(UniMod_4)PVSNAMC(UniMod_4)R',\n",
       "       'C(UniMod_4)VNHYGGYLC(UniMod_4)LPK',\n",
       "       'FSC(UniMod_4)MC(UniMod_4)PQGYQVVR',\n",
       "       'GSFAC(UniMod_4)QC(UniMod_4)PPGYQK', 'NPC(UniMod_4)QDPYILTPENR',\n",
       "       'RGEQC(UniMod_4)VDIDEC(UniMod_4)TIPPYC(UniMod_4)HQR',\n",
       "       'GAQTQTEEEMTR', 'IC(UniMod_4)ANVFC(UniMod_4)GAGR', 'NLHGDGIALWYTR',\n",
       "       'NRDHDTFLAVR', 'FYVHNDIFR', 'SPQGLGAFTPVVR', 'FAEQDAK',\n",
       "       'ALFLETEQLK', 'SSNTYTLTDVRR', 'LGC(UniMod_4)SLNQNSVPDIHGVEAPAR',\n",
       "       'VTIPTDLIASSGDIIK', 'DQC(UniMod_4)QVDSQC(UniMod_4)PGQMK',\n",
       "       'ASLVPMEHC(UniMod_4)ITR', 'DQGNQEQDPNISNGEEEEEKEPGEVGTHNDNQER',\n",
       "       'KLSENTDFLAPGVSSFTDSNQQESITK', 'LLAGDHPIDLLLR', 'MNFRPGVLSSR',\n",
       "       'YIFHNFMER', 'LPYTASSGLMAPR',\n",
       "       'AGAAAGGPGVSGVC(UniMod_4)VC(UniMod_4)K',\n",
       "       'DAC(UniMod_4)GC(UniMod_4)C(UniMod_4)PMC(UniMod_4)AR',\n",
       "       'GYC(UniMod_4)APGMEC(UniMod_4)VK',\n",
       "       'SRYPVC(UniMod_4)GSDGTTYPSGC(UniMod_4)QLR', 'TELLPGDRDNLAIQTR',\n",
       "       'ASEGGFTATGQR', 'FSC(UniMod_4)FQEEAPQPHYQLR',\n",
       "       'LLPAQLPAEKEVGPPLPQEAVPLQK', 'LVWEEAMSR', 'QHVVYGPWNLPQSSYSHLTR',\n",
       "       'VAPDEHPILLTEAPLNPK', 'ASVGQDSPEPR',\n",
       "       'GKRPYQEGTPC(UniMod_4)SQC(UniMod_4)PSGYHC(UniMod_4)K',\n",
       "       'LMVELHNLYR', 'EGDMLTLFDGDGPSAR', 'VVVNFAPTIQEIK',\n",
       "       'TGTTGQSGAESGTTEPSAR', 'ILTC(UniMod_4)M(UniMod_35)QGMEEIR',\n",
       "       'SRGPGAPC(UniMod_4)QDVDEC(UniMod_4)AR', 'DTINLLDQR', 'FAALDNEEEDK',\n",
       "       'DNWVFC(UniMod_4)GGK', 'GINVALANGK',\n",
       "       'IC(UniMod_4)LEDNVLM(UniMod_35)SGVK', 'IC(UniMod_4)LEDNVLMSGVK',\n",
       "       'LIADLGSTSITNLGFR', 'M(UniMod_35)ASGAANVVGPK', 'MASGAANVVGPK',\n",
       "       'MDASLGNLFAR', 'SPFEQHIK', 'SLPSEASEQYLTK', 'VFNTPEGVPSAPSSLK',\n",
       "       'YIVSGTPTFVPYLIK', 'GLVSWGNIPC(UniMod_4)GSK', 'LSELIQPLPLER',\n",
       "       'TSTDLQVLAAR', 'ALEQDLPVNIK', 'EWVAIESDSVQPVPR', 'GNSYFMVEVK',\n",
       "       'MMAVAADTLQR', 'TVFGTEPDMIR', 'YPSLSIHGIEGAFDEPGTK',\n",
       "       'AGLLRPDYALLGHR', 'GSQTQSHPDLGTEGC(UniMod_4)WDQLSAPR', 'TFTLLDPK',\n",
       "       'ITSWMEPIVK', 'HNC(UniMod_4)MENSIC(UniMod_4)R',\n",
       "       'HVEPGEPLAPSPQEPQAVGR', 'VPEEDLKR', 'EAEEHQETQC(UniMod_4)LR',\n",
       "       'VHKEDDGVPVIC(UniMod_4)QVEHPAVTGNLQTQR', 'VLLDQLR', 'GVALADFNR',\n",
       "       'GVASLFAGR', 'FTILDSQGK', 'NVDGVNYASITR',\n",
       "       'C(UniMod_4)MC(UniMod_4)PAENPGC(UniMod_4)R', 'DQPFTILYR',\n",
       "       'AEAQEAEDQQAR', 'ARAEAQEAEDQQAR', 'GEAAGAVQELAR',\n",
       "       'ILAGSADSEGVAAPR', 'KNM(UniMod_35)FEFLK', 'LALLVDTVGPR',\n",
       "       'GATTSPGVYELSSR', 'KPAEDEWGK', 'AANEVSSADVK', 'LLEELVR',\n",
       "       'SNVSDAVAQSTR', 'QALPQVR', 'SGNIPAGTTVDTK', 'GLEFLSVPSTYYK',\n",
       "       'NPDSSTTGPWC(UniMod_4)YTTDPTVR', 'EQPPSLTR', 'ASNLESGVPSR',\n",
       "       'NFPPSQDASGDLYTTSSQLTLPATQC(UniMod_4)PDGK', 'GWVTDGFSSLK',\n",
       "       'IFFYDSENPPASEVLR', 'AGC(UniMod_4)VAESTAVC(UniMod_4)R',\n",
       "       'RLGMFNIQHC(UniMod_4)K', 'EPQVYTLPPSRDELTK', 'RTHLPEVFLSK'],\n",
       "      dtype=object)"
      ]
     },
     "execution_count": 24,
     "metadata": {},
     "output_type": "execute_result"
    }
   ],
   "source": [
    "Pro_pep_clin[\"Peptide\"].unique()"
   ]
  },
  {
   "cell_type": "code",
   "execution_count": 25,
   "metadata": {},
   "outputs": [
    {
     "data": {
      "text/plain": [
       "array([11254.3 , 13163.6 , 15257.6 , ...,  1293.65,  1826.01,  7235.97])"
      ]
     },
     "execution_count": 25,
     "metadata": {},
     "output_type": "execute_result"
    }
   ],
   "source": [
    "Pro_pep_clin[\"PeptideAbundance\"].unique()"
   ]
  },
  {
   "cell_type": "code",
   "execution_count": 26,
   "metadata": {},
   "outputs": [
    {
     "data": {
      "text/plain": [
       "array([10.,  8.,  7., 16., 14., 17., 12., 23., 11., 20., 19., 15.,  2.,\n",
       "        1.,  3.,  0.,  6.,  5.,  4.,  9., 13., 25., 21., 18., 26., 22.,\n",
       "       27., 28., 31., nan, 33., 24., 29.])"
      ]
     },
     "execution_count": 26,
     "metadata": {},
     "output_type": "execute_result"
    }
   ],
   "source": [
    "Pro_pep_clin[\"updrs_1\"].unique()"
   ]
  },
  {
   "cell_type": "code",
   "execution_count": 27,
   "metadata": {},
   "outputs": [
    {
     "data": {
      "text/plain": [
       "array([ 6.,  7., 10.,  9., 13., 18., 20., 16., 21.,  4., 11., 14., 15.,\n",
       "       17.,  0.,  1.,  2.,  8., 12., 22.,  3., 19., 23., 26.,  5., 27.,\n",
       "       24., 28., 25., 30., 31., 35., 40., 29., 39., nan, 36.])"
      ]
     },
     "execution_count": 27,
     "metadata": {},
     "output_type": "execute_result"
    }
   ],
   "source": [
    "Pro_pep_clin[\"updrs_2\"].unique()"
   ]
  },
  {
   "cell_type": "code",
   "execution_count": 28,
   "metadata": {},
   "outputs": [
    {
     "data": {
      "text/plain": [
       "array([15., 25., 34., 30., 41., 38., 49., 51., 52., 56., 32., 28., 39.,\n",
       "       31., 37., 40.,  0.,  1.,  3.,  2.,  9., 14., 12., 11.,  7.,  6.,\n",
       "        8., 10., 18., 36., 29., 22.,  5.,  4., 17., 21., 45., 63., 50.,\n",
       "       43., 46., 54., 24., 20., 16., 19., 35., 33., 26., 27., 53., nan,\n",
       "       23., 13., 59., 48., 44., 64., 61., 68., 42., 58., 60., 47., 66.,\n",
       "       86., 85., 55., 62., 65., 57., 67., 78.])"
      ]
     },
     "execution_count": 28,
     "metadata": {},
     "output_type": "execute_result"
    }
   ],
   "source": [
    "Pro_pep_clin[\"updrs_3\"].unique()"
   ]
  },
  {
   "cell_type": "code",
   "execution_count": 29,
   "metadata": {},
   "outputs": [
    {
     "data": {
      "text/plain": [
       "array([nan,  0.,  5.,  7.,  3., 10.,  8.,  4.,  6.,  2.,  9.,  1., 13.,\n",
       "       11., 14., 12., 20., 15., 16., 17.])"
      ]
     },
     "execution_count": 29,
     "metadata": {},
     "output_type": "execute_result"
    }
   ],
   "source": [
    "Pro_pep_clin[\"updrs_4\"].unique()"
   ]
  },
  {
   "cell_type": "markdown",
   "metadata": {},
   "source": [
    "NOTE: There is a is Nan value\n"
   ]
  },
  {
   "cell_type": "markdown",
   "metadata": {},
   "source": [
    "# Continue Checking Data Types"
   ]
  },
  {
   "cell_type": "code",
   "execution_count": 30,
   "metadata": {},
   "outputs": [
    {
     "data": {
      "text/plain": [
       "array([nan, 'On', 'Off'], dtype=object)"
      ]
     },
     "execution_count": 30,
     "metadata": {},
     "output_type": "execute_result"
    }
   ],
   "source": [
    "Pro_pep_clin[\"upd23b_clinical_state_on_medication\"].unique()"
   ]
  },
  {
   "cell_type": "markdown",
   "metadata": {},
   "source": [
    "NOTE: There is a is Nan value"
   ]
  },
  {
   "cell_type": "markdown",
   "metadata": {},
   "source": [
    "NOTE2: it is an object. Does this make sense?"
   ]
  },
  {
   "cell_type": "markdown",
   "metadata": {},
   "source": [
    "# DATA DEFINITIONS #################################"
   ]
  },
  {
   "cell_type": "code",
   "execution_count": 31,
   "metadata": {},
   "outputs": [],
   "source": [
    "  # Visit ID     is the ID code for the visit.\n",
    "  # Visit_month  is the month of the visit, relative to the first visit by the patient.\n",
    "  # Patient_id   is the specific ID code for the patient.\n",
    "  # UniProt      is the UniProt ID code for the associated protein. Several peptides make a protein.\n",
    "  # Peptide      is the sequence of amino acids included in the peptide.\n",
    "  # NPX          is the normalized protein expression. The frequency of the protein's occurrence in the sample. \n",
    "  # updrs_[1-4]  is the patient's score for part N of the Unified Parkinson's Disease Rating Scale. Higher numbers indicate more severe symptoms. Each sub-section covers a distinct category of symptoms, such as mood and behavior for Part 1 and motor functions for Part 3.\n",
    "  # upd23b_clinical_state_on_medication  Whether or not the patient was taking medication such as Levodopa during the UPDRS assessment. Expected to mainly affect the scores for Part 3 (motor function). These medications wear off fairly quickly (on the order of one day) so it's common for patients to take the motor function exam twice in a single month, both with and without medication."
   ]
  },
  {
   "cell_type": "markdown",
   "metadata": {},
   "source": [
    "# Column Names"
   ]
  },
  {
   "cell_type": "code",
   "execution_count": 32,
   "metadata": {},
   "outputs": [
    {
     "data": {
      "text/plain": [
       "Index(['patient_id', 'UniProt', 'NPX', 'Peptide', 'PeptideAbundance',\n",
       "       'visit_id', 'visit_month', 'updrs_1', 'updrs_2', 'updrs_3', 'updrs_4',\n",
       "       'upd23b_clinical_state_on_medication'],\n",
       "      dtype='object')"
      ]
     },
     "execution_count": 32,
     "metadata": {},
     "output_type": "execute_result"
    }
   ],
   "source": [
    "Pro_pep_clin.columns"
   ]
  },
  {
   "cell_type": "markdown",
   "metadata": {},
   "source": [
    "# Data Types"
   ]
  },
  {
   "cell_type": "code",
   "execution_count": 33,
   "metadata": {},
   "outputs": [
    {
     "data": {
      "text/plain": [
       "patient_id                               int64\n",
       "UniProt                                 object\n",
       "NPX                                    float64\n",
       "Peptide                                 object\n",
       "PeptideAbundance                       float64\n",
       "visit_id                                object\n",
       "visit_month                              int64\n",
       "updrs_1                                float64\n",
       "updrs_2                                float64\n",
       "updrs_3                                float64\n",
       "updrs_4                                float64\n",
       "upd23b_clinical_state_on_medication     object\n",
       "dtype: object"
      ]
     },
     "execution_count": 33,
     "metadata": {},
     "output_type": "execute_result"
    }
   ],
   "source": [
    "# Data Types(.dtypes)\n",
    "Pro_pep_clin.dtypes"
   ]
  },
  {
   "cell_type": "markdown",
   "metadata": {},
   "source": [
    "# Description of the Columns"
   ]
  },
  {
   "cell_type": "code",
   "execution_count": 34,
   "metadata": {},
   "outputs": [
    {
     "data": {
      "text/html": [
       "<div>\n",
       "<style scoped>\n",
       "    .dataframe tbody tr th:only-of-type {\n",
       "        vertical-align: middle;\n",
       "    }\n",
       "\n",
       "    .dataframe tbody tr th {\n",
       "        vertical-align: top;\n",
       "    }\n",
       "\n",
       "    .dataframe thead th {\n",
       "        text-align: right;\n",
       "    }\n",
       "</style>\n",
       "<table border=\"1\" class=\"dataframe\">\n",
       "  <thead>\n",
       "    <tr style=\"text-align: right;\">\n",
       "      <th></th>\n",
       "      <th>patient_id</th>\n",
       "      <th>NPX</th>\n",
       "      <th>PeptideAbundance</th>\n",
       "      <th>visit_month</th>\n",
       "      <th>updrs_1</th>\n",
       "      <th>updrs_2</th>\n",
       "      <th>updrs_3</th>\n",
       "      <th>updrs_4</th>\n",
       "    </tr>\n",
       "  </thead>\n",
       "  <tbody>\n",
       "    <tr>\n",
       "      <th>count</th>\n",
       "      <td>5.564795e+07</td>\n",
       "      <td>5.564795e+07</td>\n",
       "      <td>5.564795e+07</td>\n",
       "      <td>5.564795e+07</td>\n",
       "      <td>5.563985e+07</td>\n",
       "      <td>5.559617e+07</td>\n",
       "      <td>5.503900e+07</td>\n",
       "      <td>3.270041e+07</td>\n",
       "    </tr>\n",
       "    <tr>\n",
       "      <th>mean</th>\n",
       "      <td>3.277140e+04</td>\n",
       "      <td>1.705419e+07</td>\n",
       "      <td>6.443436e+05</td>\n",
       "      <td>3.326916e+01</td>\n",
       "      <td>6.779150e+00</td>\n",
       "      <td>6.617468e+00</td>\n",
       "      <td>1.932788e+01</td>\n",
       "      <td>1.817148e+00</td>\n",
       "    </tr>\n",
       "    <tr>\n",
       "      <th>std</th>\n",
       "      <td>1.857858e+04</td>\n",
       "      <td>6.318971e+07</td>\n",
       "      <td>3.377466e+06</td>\n",
       "      <td>2.632355e+01</td>\n",
       "      <td>5.256137e+00</td>\n",
       "      <td>6.165508e+00</td>\n",
       "      <td>1.498120e+01</td>\n",
       "      <td>2.832787e+00</td>\n",
       "    </tr>\n",
       "    <tr>\n",
       "      <th>min</th>\n",
       "      <td>5.500000e+01</td>\n",
       "      <td>8.460820e+01</td>\n",
       "      <td>1.099850e+01</td>\n",
       "      <td>0.000000e+00</td>\n",
       "      <td>0.000000e+00</td>\n",
       "      <td>0.000000e+00</td>\n",
       "      <td>0.000000e+00</td>\n",
       "      <td>0.000000e+00</td>\n",
       "    </tr>\n",
       "    <tr>\n",
       "      <th>25%</th>\n",
       "      <td>1.741400e+04</td>\n",
       "      <td>2.490380e+05</td>\n",
       "      <td>2.854950e+04</td>\n",
       "      <td>1.200000e+01</td>\n",
       "      <td>3.000000e+00</td>\n",
       "      <td>2.000000e+00</td>\n",
       "      <td>6.000000e+00</td>\n",
       "      <td>0.000000e+00</td>\n",
       "    </tr>\n",
       "    <tr>\n",
       "      <th>50%</th>\n",
       "      <td>2.832700e+04</td>\n",
       "      <td>1.002360e+06</td>\n",
       "      <td>7.490780e+04</td>\n",
       "      <td>3.000000e+01</td>\n",
       "      <td>6.000000e+00</td>\n",
       "      <td>5.000000e+00</td>\n",
       "      <td>1.800000e+01</td>\n",
       "      <td>0.000000e+00</td>\n",
       "    </tr>\n",
       "    <tr>\n",
       "      <th>75%</th>\n",
       "      <td>5.061100e+04</td>\n",
       "      <td>3.748100e+06</td>\n",
       "      <td>2.225220e+05</td>\n",
       "      <td>4.800000e+01</td>\n",
       "      <td>9.000000e+00</td>\n",
       "      <td>1.000000e+01</td>\n",
       "      <td>2.900000e+01</td>\n",
       "      <td>3.000000e+00</td>\n",
       "    </tr>\n",
       "    <tr>\n",
       "      <th>max</th>\n",
       "      <td>6.504300e+04</td>\n",
       "      <td>6.138510e+08</td>\n",
       "      <td>1.787520e+08</td>\n",
       "      <td>1.080000e+02</td>\n",
       "      <td>3.300000e+01</td>\n",
       "      <td>4.000000e+01</td>\n",
       "      <td>8.600000e+01</td>\n",
       "      <td>2.000000e+01</td>\n",
       "    </tr>\n",
       "  </tbody>\n",
       "</table>\n",
       "</div>"
      ],
      "text/plain": [
       "         patient_id           NPX  PeptideAbundance   visit_month  \\\n",
       "count  5.564795e+07  5.564795e+07      5.564795e+07  5.564795e+07   \n",
       "mean   3.277140e+04  1.705419e+07      6.443436e+05  3.326916e+01   \n",
       "std    1.857858e+04  6.318971e+07      3.377466e+06  2.632355e+01   \n",
       "min    5.500000e+01  8.460820e+01      1.099850e+01  0.000000e+00   \n",
       "25%    1.741400e+04  2.490380e+05      2.854950e+04  1.200000e+01   \n",
       "50%    2.832700e+04  1.002360e+06      7.490780e+04  3.000000e+01   \n",
       "75%    5.061100e+04  3.748100e+06      2.225220e+05  4.800000e+01   \n",
       "max    6.504300e+04  6.138510e+08      1.787520e+08  1.080000e+02   \n",
       "\n",
       "            updrs_1       updrs_2       updrs_3       updrs_4  \n",
       "count  5.563985e+07  5.559617e+07  5.503900e+07  3.270041e+07  \n",
       "mean   6.779150e+00  6.617468e+00  1.932788e+01  1.817148e+00  \n",
       "std    5.256137e+00  6.165508e+00  1.498120e+01  2.832787e+00  \n",
       "min    0.000000e+00  0.000000e+00  0.000000e+00  0.000000e+00  \n",
       "25%    3.000000e+00  2.000000e+00  6.000000e+00  0.000000e+00  \n",
       "50%    6.000000e+00  5.000000e+00  1.800000e+01  0.000000e+00  \n",
       "75%    9.000000e+00  1.000000e+01  2.900000e+01  3.000000e+00  \n",
       "max    3.300000e+01  4.000000e+01  8.600000e+01  2.000000e+01  "
      ]
     },
     "execution_count": 34,
     "metadata": {},
     "output_type": "execute_result"
    }
   ],
   "source": [
    "Pro_pep_clin.describe()"
   ]
  },
  {
   "cell_type": "markdown",
   "metadata": {},
   "source": [
    "NOTE: \n",
    "NPX values & peptide abundance vary greatly!\n",
    "Make sure to check it/ graph it.\n",
    "Maybe theres a correlation between the two?\n",
    "\n",
    "Medication does not appear?\n",
    "Maybe because its an object"
   ]
  },
  {
   "cell_type": "code",
   "execution_count": 36,
   "metadata": {},
   "outputs": [
    {
     "name": "stdout",
     "output_type": "stream",
     "text": [
      "227 unique entries for UniProt 55647950 entries\n",
      "218795 unique entries for NPX out of 55647950 entries\n",
      "968 unique entries for Peptide out of 55647950 entries\n",
      "738931 unique entries for PeptideAbundance out of 55647950 entries\n",
      "248 unique entries for patient_id out of 55647950 entries\n",
      "17 unique entries for visit_month out of 55647950 entries\n",
      "32 unique entries for updrs_1 out of 55639850 entries\n",
      "36 unique entries for updrs_2 out of 55596172 entries\n",
      "72 unique entries for updrs_3 out of 55039003 entries\n",
      "19 unique entries for updrs_4 out of 32700410 entries\n",
      "2 unique entries for upd23b_clinical_state_on_medication out of 27661960 entries\n"
     ]
    }
   ],
   "source": [
    "#Unique values and Counts\n",
    "# many repeating Values can be condensed\n",
    "\n",
    "print(Pro_pep_clin[\"UniProt\"].nunique(), \"unique entries for UniProt\",Pro_pep_clin[\"UniProt\"].count(),\"entries\" ) \n",
    "# many repeating Values can be condensed\n",
    "\n",
    "print(Pro_pep_clin[\"NPX\"].nunique(),\"unique entries for NPX\", \"out of\",Pro_pep_clin[\"NPX\"].count(),\"entries\" )\n",
    "\n",
    "print(Pro_pep_clin[\"Peptide\"].nunique(),\"unique entries for Peptide\", \"out of\",Pro_pep_clin[\"Peptide\"].count(),\"entries\" )\n",
    "\n",
    "print(Pro_pep_clin[\"PeptideAbundance\"].nunique(),\"unique entries for PeptideAbundance\", \"out of\",Pro_pep_clin[\"PeptideAbundance\"].count(),\"entries\" )\n",
    "\n",
    "print(Pro_pep_clin[\"patient_id\"].nunique(),\"unique entries for patient_id\", \"out of\",Pro_pep_clin[\"patient_id\"].count(),\"entries\" )\n",
    "# might want to get rid of patient id and keep visit ID becauese there are more unique entries\n",
    "\n",
    "print(Pro_pep_clin[\"visit_month\"].nunique(),\"unique entries for visit_month\", \"out of\",Pro_pep_clin[\"visit_month\"].count(),\"entries\" )\n",
    "\n",
    "print(Pro_pep_clin[\"updrs_1\"].nunique(),\"unique entries for updrs_1\", \"out of\",Pro_pep_clin[\"updrs_1\"].count(),\"entries\" )\n",
    "\n",
    "print(Pro_pep_clin[\"updrs_2\"].nunique(),\"unique entries for updrs_2\", \"out of\",Pro_pep_clin[\"updrs_2\"].count(),\"entries\" )\n",
    "\n",
    "print(Pro_pep_clin[\"updrs_3\"].nunique(),\"unique entries for updrs_3\", \"out of\",Pro_pep_clin[\"updrs_3\"].count(),\"entries\" )\n",
    "# There are less entries for this value\n",
    "\n",
    "print(Pro_pep_clin[\"updrs_4\"].nunique(),\"unique entries for updrs_4\", \"out of\",Pro_pep_clin[\"updrs_4\"].count(),\"entries\" )\n",
    "# there is about 1/3 less entries\n",
    "\n",
    "print(Pro_pep_clin[\"upd23b_clinical_state_on_medication\"].nunique(),\"unique entries for upd23b_clinical_state_on_medication\", \"out of\",Pro_pep_clin[\"upd23b_clinical_state_on_medication\"].count(),\"entries\" )\n",
    "# there is about 1/3 less entries\n"
   ]
  },
  {
   "cell_type": "markdown",
   "metadata": {},
   "source": [
    "# Graphing: Percents of Unique Values"
   ]
  },
  {
   "cell_type": "code",
   "execution_count": 37,
   "metadata": {},
   "outputs": [],
   "source": [
    "\n",
    "import matplotlib.pyplot as plt"
   ]
  },
  {
   "cell_type": "code",
   "execution_count": 38,
   "metadata": {},
   "outputs": [
    {
     "data": {
      "image/png": "[encoded data removed]",
      "text/plain": [
       "<Figure size 640x480 with 1 Axes>"
      ]
     },
     "metadata": {},
     "output_type": "display_data"
    }
   ],
   "source": [
    "plt.hist(Pro_pep_clin[\"NPX\"], bins =10)\n",
    "plt.xlabel(\"NPX Value\") # what type of number appears\n",
    "plt.ylabel(\"Frequency of Unique Values NPX\")# how many times the number appears\n",
    "plt.title(\"NPX Values and their Frequency\")\n",
    "plt.show()"
   ]
  },
  {
   "cell_type": "code",
   "execution_count": 39,
   "metadata": {},
   "outputs": [
    {
     "data": {
      "text/plain": [
       "0       11254.3\n",
       "1       11254.3\n",
       "2       11254.3\n",
       "3       11254.3\n",
       "4       11254.3\n",
       "         ...   \n",
       "595    732430.0\n",
       "596    732430.0\n",
       "597    732430.0\n",
       "598    732430.0\n",
       "599    732430.0\n",
       "Name: NPX, Length: 600, dtype: float64"
      ]
     },
     "execution_count": 39,
     "metadata": {},
     "output_type": "execute_result"
    }
   ],
   "source": [
    "Pro_pep_clin[\"NPX\"].head(600)"
   ]
  },
  {
   "cell_type": "code",
   "execution_count": 40,
   "metadata": {},
   "outputs": [
    {
     "data": {
      "text/plain": [
       "(218795, 1)"
      ]
     },
     "execution_count": 40,
     "metadata": {},
     "output_type": "execute_result"
    }
   ],
   "source": [
    "NPX_unique=pd.DataFrame(Pro_pep_clin[\"NPX\"].unique())\n",
    "NPX_unique.shape"
   ]
  },
  {
   "cell_type": "markdown",
   "metadata": {},
   "source": [
    "# ISSUE 1: Same Value Multiple Appearances!!??"
   ]
  },
  {
   "cell_type": "markdown",
   "metadata": {},
   "source": [
    "WHY? Because the SAME protein is being used to look for different peptides!!\n",
    "Thus the same protein appears multiple times with the same NPX Value.\n",
    "Need to regraph by only counting each unique protein once!"
   ]
  },
  {
   "cell_type": "code",
   "execution_count": 41,
   "metadata": {},
   "outputs": [
    {
     "data": {
      "text/html": [
       "<div>\n",
       "<style scoped>\n",
       "    .dataframe tbody tr th:only-of-type {\n",
       "        vertical-align: middle;\n",
       "    }\n",
       "\n",
       "    .dataframe tbody tr th {\n",
       "        vertical-align: top;\n",
       "    }\n",
       "\n",
       "    .dataframe thead th {\n",
       "        text-align: right;\n",
       "    }\n",
       "</style>\n",
       "<table border=\"1\" class=\"dataframe\">\n",
       "  <thead>\n",
       "    <tr style=\"text-align: right;\">\n",
       "      <th></th>\n",
       "      <th></th>\n",
       "      <th></th>\n",
       "      <th>Peptide</th>\n",
       "      <th>PeptideAbundance</th>\n",
       "      <th>visit_id</th>\n",
       "      <th>visit_month</th>\n",
       "      <th>updrs_1</th>\n",
       "      <th>updrs_2</th>\n",
       "      <th>updrs_3</th>\n",
       "      <th>updrs_4</th>\n",
       "      <th>upd23b_clinical_state_on_medication</th>\n",
       "    </tr>\n",
       "    <tr>\n",
       "      <th>patient_id</th>\n",
       "      <th>UniProt</th>\n",
       "      <th>NPX</th>\n",
       "      <th></th>\n",
       "      <th></th>\n",
       "      <th></th>\n",
       "      <th></th>\n",
       "      <th></th>\n",
       "      <th></th>\n",
       "      <th></th>\n",
       "      <th></th>\n",
       "      <th></th>\n",
       "    </tr>\n",
       "  </thead>\n",
       "  <tbody>\n",
       "    <tr>\n",
       "      <th rowspan=\"5\" valign=\"top\">55</th>\n",
       "      <th rowspan=\"5\" valign=\"top\">O00391</th>\n",
       "      <th>11254.3</th>\n",
       "      <td>NEQEQPLGQWHLS</td>\n",
       "      <td>11254.3</td>\n",
       "      <td>55_0</td>\n",
       "      <td>0</td>\n",
       "      <td>10.0</td>\n",
       "      <td>6.0</td>\n",
       "      <td>15.0</td>\n",
       "      <td>NaN</td>\n",
       "      <td>NaN</td>\n",
       "    </tr>\n",
       "    <tr>\n",
       "      <th>11254.3</th>\n",
       "      <td>NEQEQPLGQWHLS</td>\n",
       "      <td>11254.3</td>\n",
       "      <td>55_3</td>\n",
       "      <td>3</td>\n",
       "      <td>10.0</td>\n",
       "      <td>7.0</td>\n",
       "      <td>25.0</td>\n",
       "      <td>NaN</td>\n",
       "      <td>NaN</td>\n",
       "    </tr>\n",
       "    <tr>\n",
       "      <th>11254.3</th>\n",
       "      <td>NEQEQPLGQWHLS</td>\n",
       "      <td>11254.3</td>\n",
       "      <td>55_6</td>\n",
       "      <td>6</td>\n",
       "      <td>8.0</td>\n",
       "      <td>10.0</td>\n",
       "      <td>34.0</td>\n",
       "      <td>NaN</td>\n",
       "      <td>NaN</td>\n",
       "    </tr>\n",
       "    <tr>\n",
       "      <th>11254.3</th>\n",
       "      <td>NEQEQPLGQWHLS</td>\n",
       "      <td>11254.3</td>\n",
       "      <td>55_9</td>\n",
       "      <td>9</td>\n",
       "      <td>8.0</td>\n",
       "      <td>9.0</td>\n",
       "      <td>30.0</td>\n",
       "      <td>0.0</td>\n",
       "      <td>On</td>\n",
       "    </tr>\n",
       "    <tr>\n",
       "      <th>11254.3</th>\n",
       "      <td>NEQEQPLGQWHLS</td>\n",
       "      <td>11254.3</td>\n",
       "      <td>55_12</td>\n",
       "      <td>12</td>\n",
       "      <td>10.0</td>\n",
       "      <td>10.0</td>\n",
       "      <td>41.0</td>\n",
       "      <td>0.0</td>\n",
       "      <td>On</td>\n",
       "    </tr>\n",
       "    <tr>\n",
       "      <th>...</th>\n",
       "      <th>...</th>\n",
       "      <th>...</th>\n",
       "      <td>...</td>\n",
       "      <td>...</td>\n",
       "      <td>...</td>\n",
       "      <td>...</td>\n",
       "      <td>...</td>\n",
       "      <td>...</td>\n",
       "      <td>...</td>\n",
       "      <td>...</td>\n",
       "      <td>...</td>\n",
       "    </tr>\n",
       "    <tr>\n",
       "      <th rowspan=\"5\" valign=\"top\">12931</th>\n",
       "      <th rowspan=\"5\" valign=\"top\">Q13449</th>\n",
       "      <th>34843.4</th>\n",
       "      <td>AANEVSSADVK</td>\n",
       "      <td>34843.4</td>\n",
       "      <td>12931_48</td>\n",
       "      <td>48</td>\n",
       "      <td>2.0</td>\n",
       "      <td>5.0</td>\n",
       "      <td>33.0</td>\n",
       "      <td>0.0</td>\n",
       "      <td>Off</td>\n",
       "    </tr>\n",
       "    <tr>\n",
       "      <th>34843.4</th>\n",
       "      <td>AANEVSSADVK</td>\n",
       "      <td>34843.4</td>\n",
       "      <td>12931_54</td>\n",
       "      <td>54</td>\n",
       "      <td>2.0</td>\n",
       "      <td>6.0</td>\n",
       "      <td>25.0</td>\n",
       "      <td>0.0</td>\n",
       "      <td>On</td>\n",
       "    </tr>\n",
       "    <tr>\n",
       "      <th>34843.4</th>\n",
       "      <td>AANEVSSADVK</td>\n",
       "      <td>34843.4</td>\n",
       "      <td>12931_60</td>\n",
       "      <td>60</td>\n",
       "      <td>1.0</td>\n",
       "      <td>8.0</td>\n",
       "      <td>43.0</td>\n",
       "      <td>0.0</td>\n",
       "      <td>On</td>\n",
       "    </tr>\n",
       "    <tr>\n",
       "      <th>34843.4</th>\n",
       "      <td>AANEVSSADVK</td>\n",
       "      <td>34843.4</td>\n",
       "      <td>12931_72</td>\n",
       "      <td>72</td>\n",
       "      <td>5.0</td>\n",
       "      <td>5.0</td>\n",
       "      <td>30.0</td>\n",
       "      <td>2.0</td>\n",
       "      <td>On</td>\n",
       "    </tr>\n",
       "    <tr>\n",
       "      <th>34843.4</th>\n",
       "      <td>AANEVSSADVK</td>\n",
       "      <td>34843.4</td>\n",
       "      <td>12931_84</td>\n",
       "      <td>84</td>\n",
       "      <td>6.0</td>\n",
       "      <td>5.0</td>\n",
       "      <td>26.0</td>\n",
       "      <td>1.0</td>\n",
       "      <td>Off</td>\n",
       "    </tr>\n",
       "  </tbody>\n",
       "</table>\n",
       "<p>40400416 rows × 9 columns</p>\n",
       "</div>"
      ],
      "text/plain": [
       "                                  Peptide  PeptideAbundance  visit_id  \\\n",
       "patient_id UniProt NPX                                                  \n",
       "55         O00391  11254.3  NEQEQPLGQWHLS           11254.3      55_0   \n",
       "                   11254.3  NEQEQPLGQWHLS           11254.3      55_3   \n",
       "                   11254.3  NEQEQPLGQWHLS           11254.3      55_6   \n",
       "                   11254.3  NEQEQPLGQWHLS           11254.3      55_9   \n",
       "                   11254.3  NEQEQPLGQWHLS           11254.3     55_12   \n",
       "...                                   ...               ...       ...   \n",
       "12931      Q13449  34843.4    AANEVSSADVK           34843.4  12931_48   \n",
       "                   34843.4    AANEVSSADVK           34843.4  12931_54   \n",
       "                   34843.4    AANEVSSADVK           34843.4  12931_60   \n",
       "                   34843.4    AANEVSSADVK           34843.4  12931_72   \n",
       "                   34843.4    AANEVSSADVK           34843.4  12931_84   \n",
       "\n",
       "                            visit_month  updrs_1  updrs_2  updrs_3  updrs_4  \\\n",
       "patient_id UniProt NPX                                                        \n",
       "55         O00391  11254.3            0     10.0      6.0     15.0      NaN   \n",
       "                   11254.3            3     10.0      7.0     25.0      NaN   \n",
       "                   11254.3            6      8.0     10.0     34.0      NaN   \n",
       "                   11254.3            9      8.0      9.0     30.0      0.0   \n",
       "                   11254.3           12     10.0     10.0     41.0      0.0   \n",
       "...                                 ...      ...      ...      ...      ...   \n",
       "12931      Q13449  34843.4           48      2.0      5.0     33.0      0.0   \n",
       "                   34843.4           54      2.0      6.0     25.0      0.0   \n",
       "                   34843.4           60      1.0      8.0     43.0      0.0   \n",
       "                   34843.4           72      5.0      5.0     30.0      2.0   \n",
       "                   34843.4           84      6.0      5.0     26.0      1.0   \n",
       "\n",
       "                           upd23b_clinical_state_on_medication  \n",
       "patient_id UniProt NPX                                          \n",
       "55         O00391  11254.3                                 NaN  \n",
       "                   11254.3                                 NaN  \n",
       "                   11254.3                                 NaN  \n",
       "                   11254.3                                  On  \n",
       "                   11254.3                                  On  \n",
       "...                                                        ...  \n",
       "12931      Q13449  34843.4                                 Off  \n",
       "                   34843.4                                  On  \n",
       "                   34843.4                                  On  \n",
       "                   34843.4                                  On  \n",
       "                   34843.4                                 Off  \n",
       "\n",
       "[40400416 rows x 9 columns]"
      ]
     },
     "execution_count": 41,
     "metadata": {},
     "output_type": "execute_result"
    }
   ],
   "source": [
    "# SOMETHING LIKE THIS\n",
    "\n",
    "df = Pro_pep_clin\n",
    "\n",
    "df= df.set_index(['patient_id','UniProt',\"NPX\"]).groupby(level=[0,1])\n",
    "df.head(3000)"
   ]
  },
  {
   "cell_type": "markdown",
   "metadata": {},
   "source": [
    "# Solution 1: Get Unique Values"
   ]
  },
  {
   "cell_type": "code",
   "execution_count": 42,
   "metadata": {},
   "outputs": [
    {
     "data": {
      "image/png": "[encoded data removed]",
      "text/plain": [
       "<Figure size 640x480 with 1 Axes>"
      ]
     },
     "metadata": {},
     "output_type": "display_data"
    }
   ],
   "source": [
    "plt.hist(NPX_unique, bins =10)\n",
    "plt.xlabel(\"NPX Value\") # what type of number appears\n",
    "plt.ylabel(\"Frequency of Unique Values NPX\")# how many times the number appears\n",
    "plt.title(\"NPX Values and their Frequency\")\n",
    "plt.show()"
   ]
  },
  {
   "cell_type": "markdown",
   "metadata": {},
   "source": [
    "Still the same Layout... Theres one more issue."
   ]
  },
  {
   "cell_type": "code",
   "execution_count": 43,
   "metadata": {},
   "outputs": [
    {
     "data": {
      "text/html": [
       "<div>\n",
       "<style scoped>\n",
       "    .dataframe tbody tr th:only-of-type {\n",
       "        vertical-align: middle;\n",
       "    }\n",
       "\n",
       "    .dataframe tbody tr th {\n",
       "        vertical-align: top;\n",
       "    }\n",
       "\n",
       "    .dataframe thead th {\n",
       "        text-align: right;\n",
       "    }\n",
       "</style>\n",
       "<table border=\"1\" class=\"dataframe\">\n",
       "  <thead>\n",
       "    <tr style=\"text-align: right;\">\n",
       "      <th></th>\n",
       "      <th>0</th>\n",
       "    </tr>\n",
       "  </thead>\n",
       "  <tbody>\n",
       "    <tr>\n",
       "      <th>0</th>\n",
       "      <td>11254.3</td>\n",
       "    </tr>\n",
       "    <tr>\n",
       "      <th>1</th>\n",
       "      <td>13163.6</td>\n",
       "    </tr>\n",
       "    <tr>\n",
       "      <th>2</th>\n",
       "      <td>15257.6</td>\n",
       "    </tr>\n",
       "    <tr>\n",
       "      <th>3</th>\n",
       "      <td>13530.8</td>\n",
       "    </tr>\n",
       "    <tr>\n",
       "      <th>4</th>\n",
       "      <td>732430.0</td>\n",
       "    </tr>\n",
       "    <tr>\n",
       "      <th>...</th>\n",
       "      <td>...</td>\n",
       "    </tr>\n",
       "    <tr>\n",
       "      <th>210348</th>\n",
       "      <td>2520260.0</td>\n",
       "    </tr>\n",
       "    <tr>\n",
       "      <th>210349</th>\n",
       "      <td>23394.6</td>\n",
       "    </tr>\n",
       "    <tr>\n",
       "      <th>210350</th>\n",
       "      <td>17271.2</td>\n",
       "    </tr>\n",
       "    <tr>\n",
       "      <th>210351</th>\n",
       "      <td>25426.3</td>\n",
       "    </tr>\n",
       "    <tr>\n",
       "      <th>210352</th>\n",
       "      <td>73924.4</td>\n",
       "    </tr>\n",
       "  </tbody>\n",
       "</table>\n",
       "<p>210353 rows × 1 columns</p>\n",
       "</div>"
      ],
      "text/plain": [
       "                0\n",
       "0         11254.3\n",
       "1         13163.6\n",
       "2         15257.6\n",
       "3         13530.8\n",
       "4        732430.0\n",
       "...           ...\n",
       "210348  2520260.0\n",
       "210349    23394.6\n",
       "210350    17271.2\n",
       "210351    25426.3\n",
       "210352    73924.4\n",
       "\n",
       "[210353 rows x 1 columns]"
      ]
     },
     "execution_count": 43,
     "metadata": {},
     "output_type": "execute_result"
    }
   ],
   "source": [
    "NPX_unique.head(210353)"
   ]
  },
  {
   "cell_type": "code",
   "execution_count": 44,
   "metadata": {},
   "outputs": [
    {
     "name": "stdout",
     "output_type": "stream",
     "text": [
      "max is 0    613851000.0\n",
      "dtype: float64\n",
      "min is 0    84.6082\n",
      "dtype: float64\n",
      "mean is 0    2.856834e+06\n",
      "dtype: float64\n"
     ]
    }
   ],
   "source": [
    "print(\"max is\", NPX_unique.max())\n",
    "print(\"min is\" , NPX_unique.min())\n",
    "print( \"mean is\", NPX_unique.mean())"
   ]
  },
  {
   "cell_type": "markdown",
   "metadata": {},
   "source": [
    "The data is EXTREMLY spread out on a large range with the min value being 84 and the max value being 61385100.\n",
    "Need to zoom in on the data"
   ]
  },
  {
   "cell_type": "markdown",
   "metadata": {},
   "source": [
    "# Zoom in on NPX Histogram"
   ]
  },
  {
   "cell_type": "code",
   "execution_count": 45,
   "metadata": {},
   "outputs": [
    {
     "data": {
      "image/png": "[encoded data removed]",
      "text/plain": [
       "<Figure size 640x480 with 1 Axes>"
      ]
     },
     "metadata": {},
     "output_type": "display_data"
    }
   ],
   "source": [
    "plt.hist(NPX_unique, bins =500)\n",
    "plt.xlabel(\"NPX Value\") # what type of number appears\n",
    "plt.ylabel(\"Frequency of Unique Values NPX\")# how many times the number appears\n",
    "plt.title(\"NPX Values and their Frequency\")\n",
    "plt.xlim(0, 3000000)\n",
    "plt.show()"
   ]
  },
  {
   "cell_type": "markdown",
   "metadata": {},
   "source": [
    "Most of the data is within the range of 84 to 1250000 "
   ]
  },
  {
   "cell_type": "markdown",
   "metadata": {},
   "source": [
    "# Continue to Graphing: Peptide Abundance"
   ]
  },
  {
   "cell_type": "code",
   "execution_count": 47,
   "metadata": {},
   "outputs": [
    {
     "data": {
      "image/png": "[encoded data removed]",
      "text/plain": [
       "<Figure size 640x480 with 1 Axes>"
      ]
     },
     "metadata": {},
     "output_type": "display_data"
    }
   ],
   "source": [
    "#percents of unique values of Peptide abundance\n",
    "\n",
    "plt.hist(Pro_pep_clin[\"PeptideAbundance\"], bins=20)\n",
    "plt.xlabel(\"Peptide Abundance Value\") # what type of number appears\n",
    "plt.ylabel(\"Frequency of Unique Values in Peptide Abundance\")# how many times the number appears\n",
    "plt.title(\"Peptide Abundance and its Frequency\")\n",
    "plt.show()\n"
   ]
  },
  {
   "cell_type": "markdown",
   "metadata": {},
   "source": [
    "Seems to be the same case as NPX.\n",
    "lets get unique values, min, and max and zoom in "
   ]
  },
  {
   "cell_type": "code",
   "execution_count": 48,
   "metadata": {},
   "outputs": [
    {
     "data": {
      "text/plain": [
       "(738931, 1)"
      ]
     },
     "execution_count": 48,
     "metadata": {},
     "output_type": "execute_result"
    }
   ],
   "source": [
    "pepA_unique=pd.DataFrame(Pro_pep_clin[\"PeptideAbundance\"].unique())\n",
    "pepA_unique.shape"
   ]
  },
  {
   "cell_type": "code",
   "execution_count": 49,
   "metadata": {},
   "outputs": [
    {
     "data": {
      "text/plain": [
       "0    10.9985\n",
       "dtype: float64"
      ]
     },
     "execution_count": 49,
     "metadata": {},
     "output_type": "execute_result"
    }
   ],
   "source": [
    "pepA_unique.min()"
   ]
  },
  {
   "cell_type": "code",
   "execution_count": 50,
   "metadata": {},
   "outputs": [
    {
     "data": {
      "text/plain": [
       "0    178752000.0\n",
       "dtype: float64"
      ]
     },
     "execution_count": 50,
     "metadata": {},
     "output_type": "execute_result"
    }
   ],
   "source": [
    "pepA_unique.max()"
   ]
  },
  {
   "cell_type": "code",
   "execution_count": 51,
   "metadata": {},
   "outputs": [
    {
     "data": {
      "text/plain": [
       "0    798078.241981\n",
       "dtype: float64"
      ]
     },
     "execution_count": 51,
     "metadata": {},
     "output_type": "execute_result"
    }
   ],
   "source": [
    "pepA_unique.mean()"
   ]
  },
  {
   "cell_type": "code",
   "execution_count": 53,
   "metadata": {},
   "outputs": [
    {
     "data": {
      "image/png": "[encoded data removed]",
      "text/plain": [
       "<Figure size 640x480 with 1 Axes>"
      ]
     },
     "metadata": {},
     "output_type": "display_data"
    }
   ],
   "source": [
    "plt.hist(pepA_unique, bins= 20)\n",
    "plt.xlabel(\"Peptide Abundance Value\") # what type of number appears\n",
    "plt.ylabel(\"Frequency of Unique Values in Peptide Abundance\")# how many times the number appears\n",
    "plt.title(\"Peptide Abundance and its Frequency\")\n",
    "plt.show()"
   ]
  },
  {
   "cell_type": "markdown",
   "metadata": {},
   "source": [
    "Doesn't really change.We still have the same issue as before that the data is too spreadout."
   ]
  },
  {
   "cell_type": "markdown",
   "metadata": {},
   "source": [
    "# Zoom in on Peptide Abundance Histogram"
   ]
  },
  {
   "cell_type": "code",
   "execution_count": 54,
   "metadata": {},
   "outputs": [
    {
     "data": {
      "image/png": "[encoded data removed]",
      "text/plain": [
       "<Figure size 640x480 with 1 Axes>"
      ]
     },
     "metadata": {},
     "output_type": "display_data"
    }
   ],
   "source": [
    "plt.hist(pepA_unique, bins= 750)\n",
    "plt.xlabel(\"Peptide Abundance Value\") # what type of number appears\n",
    "plt.ylabel(\"Frequency of Unique Values in Peptide Abundance\")# how many times the number appears\n",
    "plt.title(\"Peptide Abundance and its Frequency\")\n",
    "plt.xlim(-0, 800000)\n",
    "plt.show()"
   ]
  },
  {
   "cell_type": "markdown",
   "metadata": {},
   "source": [
    "Most of the data is from  10.99 to around 250000.\n",
    "The most frequent peptide abundance can give us a clue to the peptides that may be involved with Parkinson's disease."
   ]
  },
  {
   "cell_type": "markdown",
   "metadata": {},
   "source": [
    "# Graph UPDR 1-4"
   ]
  },
  {
   "cell_type": "code",
   "execution_count": 55,
   "metadata": {},
   "outputs": [
    {
     "data": {
      "image/png": "[encoded data removed]",
      "text/plain": [
       "<Figure size 640x480 with 1 Axes>"
      ]
     },
     "metadata": {},
     "output_type": "display_data"
    },
    {
     "data": {
      "image/png": "[encoded data removed]",
      "text/plain": [
       "<Figure size 640x480 with 1 Axes>"
      ]
     },
     "metadata": {},
     "output_type": "display_data"
    },
    {
     "data": {
      "image/png": "[encoded data removed]",
      "text/plain": [
       "<Figure size 640x480 with 1 Axes>"
      ]
     },
     "metadata": {},
     "output_type": "display_data"
    },
    {
     "data": {
      "image/png": "[encoded data removed]",
      "text/plain": [
       "<Figure size 640x480 with 1 Axes>"
      ]
     },
     "metadata": {},
     "output_type": "display_data"
    }
   ],
   "source": [
    "\n",
    "Pro_pep_clin[\"updrs_1\"].hist()\n",
    "plt.xlabel(\"UPDRS 1 Value\") # what type of number appears\n",
    "plt.ylabel(\"Frequency of Unique Values in UPDRS 1\")# how many times the number appears\n",
    "plt.show()\n",
    "\n",
    "Pro_pep_clin[\"updrs_2\"].hist()\n",
    "plt.xlabel(\"UPDRS 2 Value\") # what type of number appears\n",
    "plt.ylabel(\"Frequency of Unique Values in UPDRS 2\")# how many times the number appears\n",
    "plt.show()\n",
    "\n",
    "Pro_pep_clin[\"updrs_3\"].hist()\n",
    "plt.xlabel(\"UPDRS 3 Value\") # what type of number appears\n",
    "plt.ylabel(\"Frequency o  f Unique Values in UPDRS 3\")# how many times the number appears\n",
    "plt.show()\n",
    "\n",
    "Pro_pep_clin[\"updrs_4\"].dropna().hist()\n",
    "plt.xlabel(\"UPDRS 4 Value\") # what type of number appears\n",
    "plt.ylabel(\"Frequency of Unique Values in UPDRS 4\")# how many times the number appears\n",
    "plt.show()\n",
    "\n"
   ]
  },
  {
   "cell_type": "markdown",
   "metadata": {},
   "source": [
    "These values seem to make sense"
   ]
  },
  {
   "cell_type": "markdown",
   "metadata": {},
   "source": [
    "# Min & Max Values Overview"
   ]
  },
  {
   "cell_type": "code",
   "execution_count": 56,
   "metadata": {},
   "outputs": [
    {
     "data": {
      "text/plain": [
       "patient_id              65043.0\n",
       "NPX                 613851000.0\n",
       "PeptideAbundance    178752000.0\n",
       "visit_month               108.0\n",
       "updrs_1                    33.0\n",
       "updrs_2                    40.0\n",
       "updrs_3                    86.0\n",
       "updrs_4                    20.0\n",
       "dtype: float64"
      ]
     },
     "execution_count": 56,
     "metadata": {},
     "output_type": "execute_result"
    }
   ],
   "source": [
    "#Ranges of values\n",
    "Pro_pep_clin.max(numeric_only=True)"
   ]
  },
  {
   "cell_type": "code",
   "execution_count": 57,
   "metadata": {},
   "outputs": [
    {
     "data": {
      "text/plain": [
       "patient_id          55.0000\n",
       "NPX                 84.6082\n",
       "PeptideAbundance    10.9985\n",
       "visit_month          0.0000\n",
       "updrs_1              0.0000\n",
       "updrs_2              0.0000\n",
       "updrs_3              0.0000\n",
       "updrs_4              0.0000\n",
       "dtype: float64"
      ]
     },
     "execution_count": 57,
     "metadata": {},
     "output_type": "execute_result"
    }
   ],
   "source": [
    "#Ranges of values\n",
    "Pro_pep_clin.min(numeric_only=True)"
   ]
  },
  {
   "cell_type": "markdown",
   "metadata": {},
   "source": [
    "# Data Cleaning"
   ]
  },
  {
   "cell_type": "code",
   "execution_count": 58,
   "metadata": {},
   "outputs": [],
   "source": [
    "################### DATA CLEANING #########################\n",
    "#get rid of repeating data\n",
    "# get rid of NA!?\n",
    "# group by"
   ]
  },
  {
   "cell_type": "markdown",
   "metadata": {},
   "source": [
    "# Final Data to df"
   ]
  },
  {
   "cell_type": "code",
   "execution_count": 62,
   "metadata": {},
   "outputs": [
    {
     "data": {
      "text/html": [
       "<div>\n",
       "<style scoped>\n",
       "    .dataframe tbody tr th:only-of-type {\n",
       "        vertical-align: middle;\n",
       "    }\n",
       "\n",
       "    .dataframe tbody tr th {\n",
       "        vertical-align: top;\n",
       "    }\n",
       "\n",
       "    .dataframe thead th {\n",
       "        text-align: right;\n",
       "    }\n",
       "</style>\n",
       "<table border=\"1\" class=\"dataframe\">\n",
       "  <thead>\n",
       "    <tr style=\"text-align: right;\">\n",
       "      <th></th>\n",
       "      <th></th>\n",
       "      <th></th>\n",
       "      <th></th>\n",
       "      <th>PeptideAbundance</th>\n",
       "      <th>visit_id</th>\n",
       "      <th>visit_month</th>\n",
       "      <th>updrs_1</th>\n",
       "      <th>updrs_2</th>\n",
       "      <th>updrs_3</th>\n",
       "      <th>updrs_4</th>\n",
       "      <th>upd23b_clinical_state_on_medication</th>\n",
       "    </tr>\n",
       "    <tr>\n",
       "      <th>patient_id</th>\n",
       "      <th>UniProt</th>\n",
       "      <th>NPX</th>\n",
       "      <th>Peptide</th>\n",
       "      <th></th>\n",
       "      <th></th>\n",
       "      <th></th>\n",
       "      <th></th>\n",
       "      <th></th>\n",
       "      <th></th>\n",
       "      <th></th>\n",
       "      <th></th>\n",
       "    </tr>\n",
       "  </thead>\n",
       "  <tbody>\n",
       "    <tr>\n",
       "      <th rowspan=\"5\" valign=\"top\">55</th>\n",
       "      <th rowspan=\"5\" valign=\"top\">O00391</th>\n",
       "      <th rowspan=\"5\" valign=\"top\">11254.3</th>\n",
       "      <th>NEQEQPLGQWHLS</th>\n",
       "      <td>11254.3</td>\n",
       "      <td>55_0</td>\n",
       "      <td>0</td>\n",
       "      <td>10.0</td>\n",
       "      <td>6.0</td>\n",
       "      <td>15.0</td>\n",
       "      <td>NaN</td>\n",
       "      <td>NaN</td>\n",
       "    </tr>\n",
       "    <tr>\n",
       "      <th>NEQEQPLGQWHLS</th>\n",
       "      <td>11254.3</td>\n",
       "      <td>55_3</td>\n",
       "      <td>3</td>\n",
       "      <td>10.0</td>\n",
       "      <td>7.0</td>\n",
       "      <td>25.0</td>\n",
       "      <td>NaN</td>\n",
       "      <td>NaN</td>\n",
       "    </tr>\n",
       "    <tr>\n",
       "      <th>NEQEQPLGQWHLS</th>\n",
       "      <td>11254.3</td>\n",
       "      <td>55_6</td>\n",
       "      <td>6</td>\n",
       "      <td>8.0</td>\n",
       "      <td>10.0</td>\n",
       "      <td>34.0</td>\n",
       "      <td>NaN</td>\n",
       "      <td>NaN</td>\n",
       "    </tr>\n",
       "    <tr>\n",
       "      <th>NEQEQPLGQWHLS</th>\n",
       "      <td>11254.3</td>\n",
       "      <td>55_9</td>\n",
       "      <td>9</td>\n",
       "      <td>8.0</td>\n",
       "      <td>9.0</td>\n",
       "      <td>30.0</td>\n",
       "      <td>0.0</td>\n",
       "      <td>On</td>\n",
       "    </tr>\n",
       "    <tr>\n",
       "      <th>NEQEQPLGQWHLS</th>\n",
       "      <td>11254.3</td>\n",
       "      <td>55_12</td>\n",
       "      <td>12</td>\n",
       "      <td>10.0</td>\n",
       "      <td>10.0</td>\n",
       "      <td>41.0</td>\n",
       "      <td>0.0</td>\n",
       "      <td>On</td>\n",
       "    </tr>\n",
       "    <tr>\n",
       "      <th>...</th>\n",
       "      <th>...</th>\n",
       "      <th>...</th>\n",
       "      <th>...</th>\n",
       "      <td>...</td>\n",
       "      <td>...</td>\n",
       "      <td>...</td>\n",
       "      <td>...</td>\n",
       "      <td>...</td>\n",
       "      <td>...</td>\n",
       "      <td>...</td>\n",
       "      <td>...</td>\n",
       "    </tr>\n",
       "    <tr>\n",
       "      <th rowspan=\"5\" valign=\"top\">12931</th>\n",
       "      <th rowspan=\"5\" valign=\"top\">Q13449</th>\n",
       "      <th rowspan=\"5\" valign=\"top\">34843.4</th>\n",
       "      <th>AANEVSSADVK</th>\n",
       "      <td>34843.4</td>\n",
       "      <td>12931_48</td>\n",
       "      <td>48</td>\n",
       "      <td>2.0</td>\n",
       "      <td>5.0</td>\n",
       "      <td>33.0</td>\n",
       "      <td>0.0</td>\n",
       "      <td>Off</td>\n",
       "    </tr>\n",
       "    <tr>\n",
       "      <th>AANEVSSADVK</th>\n",
       "      <td>34843.4</td>\n",
       "      <td>12931_54</td>\n",
       "      <td>54</td>\n",
       "      <td>2.0</td>\n",
       "      <td>6.0</td>\n",
       "      <td>25.0</td>\n",
       "      <td>0.0</td>\n",
       "      <td>On</td>\n",
       "    </tr>\n",
       "    <tr>\n",
       "      <th>AANEVSSADVK</th>\n",
       "      <td>34843.4</td>\n",
       "      <td>12931_60</td>\n",
       "      <td>60</td>\n",
       "      <td>1.0</td>\n",
       "      <td>8.0</td>\n",
       "      <td>43.0</td>\n",
       "      <td>0.0</td>\n",
       "      <td>On</td>\n",
       "    </tr>\n",
       "    <tr>\n",
       "      <th>AANEVSSADVK</th>\n",
       "      <td>34843.4</td>\n",
       "      <td>12931_72</td>\n",
       "      <td>72</td>\n",
       "      <td>5.0</td>\n",
       "      <td>5.0</td>\n",
       "      <td>30.0</td>\n",
       "      <td>2.0</td>\n",
       "      <td>On</td>\n",
       "    </tr>\n",
       "    <tr>\n",
       "      <th>AANEVSSADVK</th>\n",
       "      <td>34843.4</td>\n",
       "      <td>12931_84</td>\n",
       "      <td>84</td>\n",
       "      <td>6.0</td>\n",
       "      <td>5.0</td>\n",
       "      <td>26.0</td>\n",
       "      <td>1.0</td>\n",
       "      <td>Off</td>\n",
       "    </tr>\n",
       "  </tbody>\n",
       "</table>\n",
       "<p>12349055 rows × 8 columns</p>\n",
       "</div>"
      ],
      "text/plain": [
       "                                          PeptideAbundance  visit_id  \\\n",
       "patient_id UniProt NPX     Peptide                                     \n",
       "55         O00391  11254.3 NEQEQPLGQWHLS           11254.3      55_0   \n",
       "                           NEQEQPLGQWHLS           11254.3      55_3   \n",
       "                           NEQEQPLGQWHLS           11254.3      55_6   \n",
       "                           NEQEQPLGQWHLS           11254.3      55_9   \n",
       "                           NEQEQPLGQWHLS           11254.3     55_12   \n",
       "...                                                    ...       ...   \n",
       "12931      Q13449  34843.4 AANEVSSADVK             34843.4  12931_48   \n",
       "                           AANEVSSADVK             34843.4  12931_54   \n",
       "                           AANEVSSADVK             34843.4  12931_60   \n",
       "                           AANEVSSADVK             34843.4  12931_72   \n",
       "                           AANEVSSADVK             34843.4  12931_84   \n",
       "\n",
       "                                          visit_month  updrs_1  updrs_2  \\\n",
       "patient_id UniProt NPX     Peptide                                        \n",
       "55         O00391  11254.3 NEQEQPLGQWHLS            0     10.0      6.0   \n",
       "                           NEQEQPLGQWHLS            3     10.0      7.0   \n",
       "                           NEQEQPLGQWHLS            6      8.0     10.0   \n",
       "                           NEQEQPLGQWHLS            9      8.0      9.0   \n",
       "                           NEQEQPLGQWHLS           12     10.0     10.0   \n",
       "...                                               ...      ...      ...   \n",
       "12931      Q13449  34843.4 AANEVSSADVK             48      2.0      5.0   \n",
       "                           AANEVSSADVK             54      2.0      6.0   \n",
       "                           AANEVSSADVK             60      1.0      8.0   \n",
       "                           AANEVSSADVK             72      5.0      5.0   \n",
       "                           AANEVSSADVK             84      6.0      5.0   \n",
       "\n",
       "                                          updrs_3  updrs_4  \\\n",
       "patient_id UniProt NPX     Peptide                           \n",
       "55         O00391  11254.3 NEQEQPLGQWHLS     15.0      NaN   \n",
       "                           NEQEQPLGQWHLS     25.0      NaN   \n",
       "                           NEQEQPLGQWHLS     34.0      NaN   \n",
       "                           NEQEQPLGQWHLS     30.0      0.0   \n",
       "                           NEQEQPLGQWHLS     41.0      0.0   \n",
       "...                                           ...      ...   \n",
       "12931      Q13449  34843.4 AANEVSSADVK       33.0      0.0   \n",
       "                           AANEVSSADVK       25.0      0.0   \n",
       "                           AANEVSSADVK       43.0      0.0   \n",
       "                           AANEVSSADVK       30.0      2.0   \n",
       "                           AANEVSSADVK       26.0      1.0   \n",
       "\n",
       "                                         upd23b_clinical_state_on_medication  \n",
       "patient_id UniProt NPX     Peptide                                            \n",
       "55         O00391  11254.3 NEQEQPLGQWHLS                                 NaN  \n",
       "                           NEQEQPLGQWHLS                                 NaN  \n",
       "                           NEQEQPLGQWHLS                                 NaN  \n",
       "                           NEQEQPLGQWHLS                                  On  \n",
       "                           NEQEQPLGQWHLS                                  On  \n",
       "...                                                                      ...  \n",
       "12931      Q13449  34843.4 AANEVSSADVK                                   Off  \n",
       "                           AANEVSSADVK                                    On  \n",
       "                           AANEVSSADVK                                    On  \n",
       "                           AANEVSSADVK                                    On  \n",
       "                           AANEVSSADVK                                   Off  \n",
       "\n",
       "[12349055 rows x 8 columns]"
      ]
     },
     "execution_count": 62,
     "metadata": {},
     "output_type": "execute_result"
    }
   ],
   "source": [
    "#Categorize Data to get a better view\n",
    "df = Pro_pep_clin\n",
    "\n",
    "df_read= df.set_index(['patient_id','UniProt',\"NPX\",\"Peptide\"]).groupby(level=[0,1])\n",
    "df_read.head(300)"
   ]
  },
  {
   "cell_type": "code",
   "execution_count": 60,
   "metadata": {},
   "outputs": [
    {
     "data": {
      "text/html": [
       "<div>\n",
       "<style scoped>\n",
       "    .dataframe tbody tr th:only-of-type {\n",
       "        vertical-align: middle;\n",
       "    }\n",
       "\n",
       "    .dataframe tbody tr th {\n",
       "        vertical-align: top;\n",
       "    }\n",
       "\n",
       "    .dataframe thead th {\n",
       "        text-align: right;\n",
       "    }\n",
       "</style>\n",
       "<table border=\"1\" class=\"dataframe\">\n",
       "  <thead>\n",
       "    <tr style=\"text-align: right;\">\n",
       "      <th></th>\n",
       "      <th>Count</th>\n",
       "      <th>%</th>\n",
       "    </tr>\n",
       "  </thead>\n",
       "  <tbody>\n",
       "    <tr>\n",
       "      <th>upd23b_clinical_state_on_medication</th>\n",
       "      <td>27985990</td>\n",
       "      <td>2971.719491</td>\n",
       "    </tr>\n",
       "    <tr>\n",
       "      <th>updrs_4</th>\n",
       "      <td>22947540</td>\n",
       "      <td>2436.706791</td>\n",
       "    </tr>\n",
       "    <tr>\n",
       "      <th>updrs_3</th>\n",
       "      <td>608947</td>\n",
       "      <td>64.661628</td>\n",
       "    </tr>\n",
       "    <tr>\n",
       "      <th>updrs_2</th>\n",
       "      <td>51778</td>\n",
       "      <td>5.498097</td>\n",
       "    </tr>\n",
       "    <tr>\n",
       "      <th>updrs_1</th>\n",
       "      <td>8100</td>\n",
       "      <td>0.860106</td>\n",
       "    </tr>\n",
       "    <tr>\n",
       "      <th>patient_id</th>\n",
       "      <td>0</td>\n",
       "      <td>0.000000</td>\n",
       "    </tr>\n",
       "    <tr>\n",
       "      <th>UniProt</th>\n",
       "      <td>0</td>\n",
       "      <td>0.000000</td>\n",
       "    </tr>\n",
       "    <tr>\n",
       "      <th>NPX</th>\n",
       "      <td>0</td>\n",
       "      <td>0.000000</td>\n",
       "    </tr>\n",
       "    <tr>\n",
       "      <th>Peptide</th>\n",
       "      <td>0</td>\n",
       "      <td>0.000000</td>\n",
       "    </tr>\n",
       "    <tr>\n",
       "      <th>PeptideAbundance</th>\n",
       "      <td>0</td>\n",
       "      <td>0.000000</td>\n",
       "    </tr>\n",
       "    <tr>\n",
       "      <th>visit_id</th>\n",
       "      <td>0</td>\n",
       "      <td>0.000000</td>\n",
       "    </tr>\n",
       "    <tr>\n",
       "      <th>visit_month</th>\n",
       "      <td>0</td>\n",
       "      <td>0.000000</td>\n",
       "    </tr>\n",
       "  </tbody>\n",
       "</table>\n",
       "</div>"
      ],
      "text/plain": [
       "                                        Count            %\n",
       "upd23b_clinical_state_on_medication  27985990  2971.719491\n",
       "updrs_4                              22947540  2436.706791\n",
       "updrs_3                                608947    64.661628\n",
       "updrs_2                                 51778     5.498097\n",
       "updrs_1                                  8100     0.860106\n",
       "patient_id                                  0     0.000000\n",
       "UniProt                                     0     0.000000\n",
       "NPX                                         0     0.000000\n",
       "Peptide                                     0     0.000000\n",
       "PeptideAbundance                            0     0.000000\n",
       "visit_id                                    0     0.000000\n",
       "visit_month                                 0     0.000000"
      ]
     },
     "execution_count": 60,
     "metadata": {},
     "output_type": "execute_result"
    }
   ],
   "source": [
    "#Find missing NA values\n",
    "NA_sum=df.isnull().sum()\n",
    "percent= NA_sum/941744\n",
    "missing = pd.concat([df.isnull().sum(), 100 * percent], axis=1)\n",
    "\n",
    "missing.columns=[\"Count\", \"%\"]\n",
    "missing.sort_values(by= [\"Count\", \"%\"], ascending = False)\n"
   ]
  },
  {
   "cell_type": "markdown",
   "metadata": {},
   "source": [
    "# Capstone 2 Step 3: Start"
   ]
  },
  {
   "cell_type": "markdown",
   "metadata": {},
   "source": [
    "# Conclusion: UPDR 1-4 and medication has many missing values\n",
    "Remove NA from df"
   ]
  },
  {
   "cell_type": "code",
   "execution_count": 63,
   "metadata": {},
   "outputs": [
    {
     "data": {
      "text/html": [
       "<div>\n",
       "<style scoped>\n",
       "    .dataframe tbody tr th:only-of-type {\n",
       "        vertical-align: middle;\n",
       "    }\n",
       "\n",
       "    .dataframe tbody tr th {\n",
       "        vertical-align: top;\n",
       "    }\n",
       "\n",
       "    .dataframe thead th {\n",
       "        text-align: right;\n",
       "    }\n",
       "</style>\n",
       "<table border=\"1\" class=\"dataframe\">\n",
       "  <thead>\n",
       "    <tr style=\"text-align: right;\">\n",
       "      <th></th>\n",
       "      <th>patient_id</th>\n",
       "      <th>UniProt</th>\n",
       "      <th>NPX</th>\n",
       "      <th>Peptide</th>\n",
       "      <th>PeptideAbundance</th>\n",
       "      <th>visit_id</th>\n",
       "      <th>visit_month</th>\n",
       "      <th>updrs_1</th>\n",
       "      <th>updrs_2</th>\n",
       "      <th>updrs_3</th>\n",
       "      <th>updrs_4</th>\n",
       "      <th>upd23b_clinical_state_on_medication</th>\n",
       "    </tr>\n",
       "  </thead>\n",
       "  <tbody>\n",
       "    <tr>\n",
       "      <th>0</th>\n",
       "      <td>55</td>\n",
       "      <td>O00391</td>\n",
       "      <td>11254.3</td>\n",
       "      <td>NEQEQPLGQWHLS</td>\n",
       "      <td>11254.3</td>\n",
       "      <td>55_0</td>\n",
       "      <td>0</td>\n",
       "      <td>10.0</td>\n",
       "      <td>6.0</td>\n",
       "      <td>15.0</td>\n",
       "      <td>NaN</td>\n",
       "      <td>NaN</td>\n",
       "    </tr>\n",
       "    <tr>\n",
       "      <th>1</th>\n",
       "      <td>55</td>\n",
       "      <td>O00391</td>\n",
       "      <td>11254.3</td>\n",
       "      <td>NEQEQPLGQWHLS</td>\n",
       "      <td>11254.3</td>\n",
       "      <td>55_3</td>\n",
       "      <td>3</td>\n",
       "      <td>10.0</td>\n",
       "      <td>7.0</td>\n",
       "      <td>25.0</td>\n",
       "      <td>NaN</td>\n",
       "      <td>NaN</td>\n",
       "    </tr>\n",
       "    <tr>\n",
       "      <th>2</th>\n",
       "      <td>55</td>\n",
       "      <td>O00391</td>\n",
       "      <td>11254.3</td>\n",
       "      <td>NEQEQPLGQWHLS</td>\n",
       "      <td>11254.3</td>\n",
       "      <td>55_6</td>\n",
       "      <td>6</td>\n",
       "      <td>8.0</td>\n",
       "      <td>10.0</td>\n",
       "      <td>34.0</td>\n",
       "      <td>NaN</td>\n",
       "      <td>NaN</td>\n",
       "    </tr>\n",
       "    <tr>\n",
       "      <th>3</th>\n",
       "      <td>55</td>\n",
       "      <td>O00391</td>\n",
       "      <td>11254.3</td>\n",
       "      <td>NEQEQPLGQWHLS</td>\n",
       "      <td>11254.3</td>\n",
       "      <td>55_9</td>\n",
       "      <td>9</td>\n",
       "      <td>8.0</td>\n",
       "      <td>9.0</td>\n",
       "      <td>30.0</td>\n",
       "      <td>0.0</td>\n",
       "      <td>On</td>\n",
       "    </tr>\n",
       "    <tr>\n",
       "      <th>4</th>\n",
       "      <td>55</td>\n",
       "      <td>O00391</td>\n",
       "      <td>11254.3</td>\n",
       "      <td>NEQEQPLGQWHLS</td>\n",
       "      <td>11254.3</td>\n",
       "      <td>55_12</td>\n",
       "      <td>12</td>\n",
       "      <td>10.0</td>\n",
       "      <td>10.0</td>\n",
       "      <td>41.0</td>\n",
       "      <td>0.0</td>\n",
       "      <td>On</td>\n",
       "    </tr>\n",
       "  </tbody>\n",
       "</table>\n",
       "</div>"
      ],
      "text/plain": [
       "   patient_id UniProt      NPX        Peptide  PeptideAbundance visit_id  \\\n",
       "0          55  O00391  11254.3  NEQEQPLGQWHLS           11254.3     55_0   \n",
       "1          55  O00391  11254.3  NEQEQPLGQWHLS           11254.3     55_3   \n",
       "2          55  O00391  11254.3  NEQEQPLGQWHLS           11254.3     55_6   \n",
       "3          55  O00391  11254.3  NEQEQPLGQWHLS           11254.3     55_9   \n",
       "4          55  O00391  11254.3  NEQEQPLGQWHLS           11254.3    55_12   \n",
       "\n",
       "   visit_month  updrs_1  updrs_2  updrs_3  updrs_4  \\\n",
       "0            0     10.0      6.0     15.0      NaN   \n",
       "1            3     10.0      7.0     25.0      NaN   \n",
       "2            6      8.0     10.0     34.0      NaN   \n",
       "3            9      8.0      9.0     30.0      0.0   \n",
       "4           12     10.0     10.0     41.0      0.0   \n",
       "\n",
       "  upd23b_clinical_state_on_medication  \n",
       "0                                 NaN  \n",
       "1                                 NaN  \n",
       "2                                 NaN  \n",
       "3                                  On  \n",
       "4                                  On  "
      ]
     },
     "execution_count": 63,
     "metadata": {},
     "output_type": "execute_result"
    }
   ],
   "source": [
    "df.head()"
   ]
  },
  {
   "cell_type": "code",
   "execution_count": 64,
   "metadata": {},
   "outputs": [],
   "source": [
    "#Remove NA values and Name df1\n",
    "df1=df.dropna()\n"
   ]
  },
  {
   "cell_type": "code",
   "execution_count": 65,
   "metadata": {},
   "outputs": [
    {
     "data": {
      "text/plain": [
       "patient_id                             0\n",
       "UniProt                                0\n",
       "NPX                                    0\n",
       "Peptide                                0\n",
       "PeptideAbundance                       0\n",
       "visit_id                               0\n",
       "visit_month                            0\n",
       "updrs_1                                0\n",
       "updrs_2                                0\n",
       "updrs_3                                0\n",
       "updrs_4                                0\n",
       "upd23b_clinical_state_on_medication    0\n",
       "dtype: int64"
      ]
     },
     "execution_count": 65,
     "metadata": {},
     "output_type": "execute_result"
    }
   ],
   "source": [
    "#Check for NA\n",
    "df1.isna().sum()"
   ]
  },
  {
   "cell_type": "code",
   "execution_count": 66,
   "metadata": {},
   "outputs": [
    {
     "data": {
      "text/plain": [
       "(55647950, 12)"
      ]
     },
     "execution_count": 66,
     "metadata": {},
     "output_type": "execute_result"
    }
   ],
   "source": [
    "df.shape"
   ]
  },
  {
   "cell_type": "code",
   "execution_count": 67,
   "metadata": {},
   "outputs": [
    {
     "data": {
      "text/plain": [
       "(27082410, 12)"
      ]
     },
     "execution_count": 67,
     "metadata": {},
     "output_type": "execute_result"
    }
   ],
   "source": [
    "df1.shape"
   ]
  },
  {
   "cell_type": "markdown",
   "metadata": {},
   "source": [
    "Went from 941744 values to 381841"
   ]
  },
  {
   "cell_type": "markdown",
   "metadata": {},
   "source": [
    "# Graph Data to See Correlations"
   ]
  },
  {
   "cell_type": "markdown",
   "metadata": {},
   "source": [
    "# Heat Map "
   ]
  },
  {
   "cell_type": "code",
   "execution_count": 68,
   "metadata": {},
   "outputs": [],
   "source": [
    "import seaborn as sns"
   ]
  },
  {
   "cell_type": "code",
   "execution_count": 69,
   "metadata": {},
   "outputs": [],
   "source": [
    "subset=df1[['NPX','PeptideAbundance','updrs_1', 'updrs_2','updrs_3','updrs_4']]"
   ]
  },
  {
   "cell_type": "code",
   "execution_count": 70,
   "metadata": {},
   "outputs": [
    {
     "data": {
      "text/plain": [
       "<AxesSubplot:>"
      ]
     },
     "execution_count": 70,
     "metadata": {},
     "output_type": "execute_result"
    },
    {
     "data": {
      "image/png": "[encoded data removed]",
      "text/plain": [
       "<Figure size 640x480 with 2 Axes>"
      ]
     },
     "metadata": {},
     "output_type": "display_data"
    }
   ],
   "source": [
    "# Make a heatmap of the data \n",
    "corr= subset.corr()\n",
    "sns.heatmap(corr)"
   ]
  },
  {
   "cell_type": "markdown",
   "metadata": {},
   "source": [
    "NPX& peptideAbundance have a high correlation to UPDRS1-4"
   ]
  },
  {
   "cell_type": "markdown",
   "metadata": {},
   "source": [
    "Heat map doesnt seem to work so: maybe try random forest"
   ]
  },
  {
   "cell_type": "markdown",
   "metadata": {},
   "source": [
    "# Plotting Data:UPDRS"
   ]
  },
  {
   "cell_type": "code",
   "execution_count": null,
   "metadata": {},
   "outputs": [],
   "source": [
    "#Look at dataframe\n",
    "f1.head()"
   ]
  },
  {
   "cell_type": "code",
   "execution_count": null,
   "metadata": {},
   "outputs": [],
   "source": [
    "#look at patient ids\n",
    "df1[\"patient_id\"].unique()"
   ]
  },
  {
   "cell_type": "code",
   "execution_count": 90,
   "metadata": {},
   "outputs": [],
   "source": [
    "#Plot data for several patients\n",
    "#clin_Cond1\n",
    "plot_df = clin_Cond1[clin_Cond1[\"patient_id\"]==1517]"
   ]
  },
  {
   "cell_type": "code",
   "execution_count": 91,
   "metadata": {},
   "outputs": [
    {
     "data": {
      "text/plain": [
       "[<matplotlib.lines.Line2D at 0x18b1b768ca0>]"
      ]
     },
     "execution_count": 91,
     "metadata": {},
     "output_type": "execute_result"
    },
    {
     "data": {
      "image/png": "[encoded data removed]",
      "text/plain": [
       "<Figure size 640x480 with 1 Axes>"
      ]
     },
     "metadata": {},
     "output_type": "display_data"
    }
   ],
   "source": [
    "#Subplot: CSV Before Merge\n",
    "fig, ax = plt.subplots(1, 1)\n",
    "\n",
    "ax.plot(plot_df['visit_month'], plot_df['updrs_1'], marker='o', color=\"blue\", label=\"updrs_1\", linestyle=\"-\")\n",
    "ax.plot(plot_df['visit_month'], plot_df['updrs_2'], marker='o', color=\"red\", label=\"updrs_2\", linestyle=\"-\")\n",
    "ax.plot(plot_df['visit_month'], plot_df['updrs_3'], marker='o', color=\"green\", label=\"updrs_3\", linestyle=\"-\")\n",
    "ax.plot(plot_df['visit_month'], plot_df['updrs_4'], marker='o', color=\"orange\", label=\"updrs_4\", linestyle=\"-\")"
   ]
  },
  {
   "cell_type": "code",
   "execution_count": null,
   "metadata": {},
   "outputs": [],
   "source": [
    "#Pro_pep_clin: CSV After Merge"
   ]
  },
  {
   "cell_type": "code",
   "execution_count": 18,
   "metadata": {},
   "outputs": [],
   "source": [
    "\n",
    "plot_df = Pro_pep_clin[Pro_pep_clin[\"patient_id\"]==1517]"
   ]
  },
  {
   "cell_type": "code",
   "execution_count": 19,
   "metadata": {},
   "outputs": [
    {
     "data": {
      "text/plain": [
       "[<matplotlib.lines.Line2D at 0x205078d2610>]"
      ]
     },
     "execution_count": 19,
     "metadata": {},
     "output_type": "execute_result"
    },
    {
     "data": {
      "image/png": "[encoded data removed]",
      "text/plain": [
       "<Figure size 640x480 with 1 Axes>"
      ]
     },
     "metadata": {},
     "output_type": "display_data"
    }
   ],
   "source": [
    "fig, ax = plt.subplots(1, 1)\n",
    "\n",
    "ax.plot(plot_df['visit_month'], plot_df['updrs_1'], marker='o', color=\"blue\", label=\"updrs_1\", linestyle=\"-\")\n",
    "ax.plot(plot_df['visit_month'], plot_df['updrs_2'], marker='o', color=\"red\", label=\"updrs_2\", linestyle=\"-\")\n",
    "ax.plot(plot_df['visit_month'], plot_df['updrs_3'], marker='o', color=\"green\", label=\"updrs_3\", linestyle=\"-\")\n",
    "ax.plot(plot_df['visit_month'], plot_df['updrs_4'], marker='o', color=\"orange\", label=\"updrs_4\", linestyle=\"-\")"
   ]
  },
  {
   "cell_type": "markdown",
   "metadata": {},
   "source": [
    "Some data seems to be missing. \n",
    " try merging again"
   ]
  },
  {
   "cell_type": "markdown",
   "metadata": {},
   "source": [
    "The graph is better but something is up!\n",
    "lets try merging data again"
   ]
  },
  {
   "cell_type": "code",
   "execution_count": 72,
   "metadata": {},
   "outputs": [],
   "source": [
    "#After Merge and Removal of Na values"
   ]
  },
  {
   "cell_type": "code",
   "execution_count": 73,
   "metadata": {},
   "outputs": [],
   "source": [
    "plot_df = df1[df1[\"patient_id\"]==1517]"
   ]
  },
  {
   "cell_type": "code",
   "execution_count": 74,
   "metadata": {},
   "outputs": [
    {
     "data": {
      "text/plain": [
       "[<matplotlib.lines.Line2D at 0x20bc98cc940>]"
      ]
     },
     "execution_count": 74,
     "metadata": {},
     "output_type": "execute_result"
    },
    {
     "data": {
      "image/png": "[encoded data removed]",
      "text/plain": [
       "<Figure size 640x480 with 1 Axes>"
      ]
     },
     "metadata": {},
     "output_type": "display_data"
    }
   ],
   "source": [
    "fig, ax = plt.subplots(1, 1)\n",
    "\n",
    "ax.plot(plot_df['visit_month'], plot_df['updrs_1'], marker='o', color=\"blue\", label=\"updrs_1\", linestyle=\"-\")\n",
    "ax.plot(plot_df['visit_month'], plot_df['updrs_2'], marker='o', color=\"red\", label=\"updrs_2\", linestyle=\"-\")\n",
    "ax.plot(plot_df['visit_month'], plot_df['updrs_3'], marker='o', color=\"green\", label=\"updrs_3\", linestyle=\"-\")\n",
    "ax.plot(plot_df['visit_month'], plot_df['updrs_4'], marker='o', color=\"orange\", label=\"updrs_4\", linestyle=\"-\")"
   ]
  },
  {
   "cell_type": "code",
   "execution_count": null,
   "metadata": {},
   "outputs": [],
   "source": []
  }
 ],
 "metadata": {
  "kernelspec": {
   "display_name": "Python 3 (ipykernel)",
   "language": "python",
   "name": "python3"
  },
  "language_info": {
   "codemirror_mode": {
    "name": "ipython",
    "version": 3
   },
   "file_extension": ".py",
   "mimetype": "text/x-python",
   "name": "python",
   "nbconvert_exporter": "python",
   "pygments_lexer": "ipython3",
   "version": "3.9.13"
  }
 },
 "nbformat": 4,
 "nbformat_minor": 4
}
